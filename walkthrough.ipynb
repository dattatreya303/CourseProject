{
  "nbformat": 4,
  "nbformat_minor": 0,
  "metadata": {
    "colab": {
      "name": "walkthrough.ipynb",
      "provenance": [],
      "collapsed_sections": [],
      "machine_shape": "hm"
    },
    "kernelspec": {
      "name": "python3",
      "display_name": "Python 3"
    },
    "language_info": {
      "name": "python"
    },
    "accelerator": "GPU",
    "widgets": {
      "application/vnd.jupyter.widget-state+json": {
        "d27a14ae037944bd902b4fd8c38b8d13": {
          "model_module": "@jupyter-widgets/controls",
          "model_name": "HBoxModel",
          "model_module_version": "1.5.0",
          "state": {
            "_view_name": "HBoxView",
            "_dom_classes": [],
            "_model_name": "HBoxModel",
            "_view_module": "@jupyter-widgets/controls",
            "_model_module_version": "1.5.0",
            "_view_count": null,
            "_view_module_version": "1.5.0",
            "box_style": "",
            "layout": "IPY_MODEL_b28b8e671ae64988ba38a38d25bbcc91",
            "_model_module": "@jupyter-widgets/controls",
            "children": [
              "IPY_MODEL_e5e1dc38e991409e9d96fe5dad23308b",
              "IPY_MODEL_1112e145f1f541a3b574f03c9e40c5fb",
              "IPY_MODEL_82dc06a55d7b4270bdd5ecca33cd93ae"
            ]
          }
        },
        "b28b8e671ae64988ba38a38d25bbcc91": {
          "model_module": "@jupyter-widgets/base",
          "model_name": "LayoutModel",
          "model_module_version": "1.2.0",
          "state": {
            "_view_name": "LayoutView",
            "grid_template_rows": null,
            "right": null,
            "justify_content": null,
            "_view_module": "@jupyter-widgets/base",
            "overflow": null,
            "_model_module_version": "1.2.0",
            "_view_count": null,
            "flex_flow": null,
            "width": null,
            "min_width": null,
            "border": null,
            "align_items": null,
            "bottom": null,
            "_model_module": "@jupyter-widgets/base",
            "top": null,
            "grid_column": null,
            "overflow_y": null,
            "overflow_x": null,
            "grid_auto_flow": null,
            "grid_area": null,
            "grid_template_columns": null,
            "flex": null,
            "_model_name": "LayoutModel",
            "justify_items": null,
            "grid_row": null,
            "max_height": null,
            "align_content": null,
            "visibility": null,
            "align_self": null,
            "height": null,
            "min_height": null,
            "padding": null,
            "grid_auto_rows": null,
            "grid_gap": null,
            "max_width": null,
            "order": null,
            "_view_module_version": "1.2.0",
            "grid_template_areas": null,
            "object_position": null,
            "object_fit": null,
            "grid_auto_columns": null,
            "margin": null,
            "display": null,
            "left": null
          }
        },
        "e5e1dc38e991409e9d96fe5dad23308b": {
          "model_module": "@jupyter-widgets/controls",
          "model_name": "HTMLModel",
          "model_module_version": "1.5.0",
          "state": {
            "_view_name": "HTMLView",
            "style": "IPY_MODEL_8dfeabfd8a2a4228be32af42d6a6512e",
            "_dom_classes": [],
            "description": "",
            "_model_name": "HTMLModel",
            "placeholder": "​",
            "_view_module": "@jupyter-widgets/controls",
            "_model_module_version": "1.5.0",
            "value": "Downloading: 100%",
            "_view_count": null,
            "_view_module_version": "1.5.0",
            "description_tooltip": null,
            "_model_module": "@jupyter-widgets/controls",
            "layout": "IPY_MODEL_76a38c07dd714a1d89f087ee1127bb26"
          }
        },
        "1112e145f1f541a3b574f03c9e40c5fb": {
          "model_module": "@jupyter-widgets/controls",
          "model_name": "FloatProgressModel",
          "model_module_version": "1.5.0",
          "state": {
            "_view_name": "ProgressView",
            "style": "IPY_MODEL_ef6147409d3642da8ef4efb31faa5a55",
            "_dom_classes": [],
            "description": "",
            "_model_name": "FloatProgressModel",
            "bar_style": "success",
            "max": 25,
            "_view_module": "@jupyter-widgets/controls",
            "_model_module_version": "1.5.0",
            "value": 25,
            "_view_count": null,
            "_view_module_version": "1.5.0",
            "orientation": "horizontal",
            "min": 0,
            "description_tooltip": null,
            "_model_module": "@jupyter-widgets/controls",
            "layout": "IPY_MODEL_532fa6cb18f340dc98c17dd46dc0026e"
          }
        },
        "82dc06a55d7b4270bdd5ecca33cd93ae": {
          "model_module": "@jupyter-widgets/controls",
          "model_name": "HTMLModel",
          "model_module_version": "1.5.0",
          "state": {
            "_view_name": "HTMLView",
            "style": "IPY_MODEL_ce740703d55a48daad76e9f35af622c2",
            "_dom_classes": [],
            "description": "",
            "_model_name": "HTMLModel",
            "placeholder": "​",
            "_view_module": "@jupyter-widgets/controls",
            "_model_module_version": "1.5.0",
            "value": " 25.0/25.0 [00:00&lt;00:00, 680B/s]",
            "_view_count": null,
            "_view_module_version": "1.5.0",
            "description_tooltip": null,
            "_model_module": "@jupyter-widgets/controls",
            "layout": "IPY_MODEL_e1bf6ee5f7cd412e84a861d3c0f692ac"
          }
        },
        "8dfeabfd8a2a4228be32af42d6a6512e": {
          "model_module": "@jupyter-widgets/controls",
          "model_name": "DescriptionStyleModel",
          "model_module_version": "1.5.0",
          "state": {
            "_view_name": "StyleView",
            "_model_name": "DescriptionStyleModel",
            "description_width": "",
            "_view_module": "@jupyter-widgets/base",
            "_model_module_version": "1.5.0",
            "_view_count": null,
            "_view_module_version": "1.2.0",
            "_model_module": "@jupyter-widgets/controls"
          }
        },
        "76a38c07dd714a1d89f087ee1127bb26": {
          "model_module": "@jupyter-widgets/base",
          "model_name": "LayoutModel",
          "model_module_version": "1.2.0",
          "state": {
            "_view_name": "LayoutView",
            "grid_template_rows": null,
            "right": null,
            "justify_content": null,
            "_view_module": "@jupyter-widgets/base",
            "overflow": null,
            "_model_module_version": "1.2.0",
            "_view_count": null,
            "flex_flow": null,
            "width": null,
            "min_width": null,
            "border": null,
            "align_items": null,
            "bottom": null,
            "_model_module": "@jupyter-widgets/base",
            "top": null,
            "grid_column": null,
            "overflow_y": null,
            "overflow_x": null,
            "grid_auto_flow": null,
            "grid_area": null,
            "grid_template_columns": null,
            "flex": null,
            "_model_name": "LayoutModel",
            "justify_items": null,
            "grid_row": null,
            "max_height": null,
            "align_content": null,
            "visibility": null,
            "align_self": null,
            "height": null,
            "min_height": null,
            "padding": null,
            "grid_auto_rows": null,
            "grid_gap": null,
            "max_width": null,
            "order": null,
            "_view_module_version": "1.2.0",
            "grid_template_areas": null,
            "object_position": null,
            "object_fit": null,
            "grid_auto_columns": null,
            "margin": null,
            "display": null,
            "left": null
          }
        },
        "ef6147409d3642da8ef4efb31faa5a55": {
          "model_module": "@jupyter-widgets/controls",
          "model_name": "ProgressStyleModel",
          "model_module_version": "1.5.0",
          "state": {
            "_view_name": "StyleView",
            "_model_name": "ProgressStyleModel",
            "description_width": "",
            "_view_module": "@jupyter-widgets/base",
            "_model_module_version": "1.5.0",
            "_view_count": null,
            "_view_module_version": "1.2.0",
            "bar_color": null,
            "_model_module": "@jupyter-widgets/controls"
          }
        },
        "532fa6cb18f340dc98c17dd46dc0026e": {
          "model_module": "@jupyter-widgets/base",
          "model_name": "LayoutModel",
          "model_module_version": "1.2.0",
          "state": {
            "_view_name": "LayoutView",
            "grid_template_rows": null,
            "right": null,
            "justify_content": null,
            "_view_module": "@jupyter-widgets/base",
            "overflow": null,
            "_model_module_version": "1.2.0",
            "_view_count": null,
            "flex_flow": null,
            "width": null,
            "min_width": null,
            "border": null,
            "align_items": null,
            "bottom": null,
            "_model_module": "@jupyter-widgets/base",
            "top": null,
            "grid_column": null,
            "overflow_y": null,
            "overflow_x": null,
            "grid_auto_flow": null,
            "grid_area": null,
            "grid_template_columns": null,
            "flex": null,
            "_model_name": "LayoutModel",
            "justify_items": null,
            "grid_row": null,
            "max_height": null,
            "align_content": null,
            "visibility": null,
            "align_self": null,
            "height": null,
            "min_height": null,
            "padding": null,
            "grid_auto_rows": null,
            "grid_gap": null,
            "max_width": null,
            "order": null,
            "_view_module_version": "1.2.0",
            "grid_template_areas": null,
            "object_position": null,
            "object_fit": null,
            "grid_auto_columns": null,
            "margin": null,
            "display": null,
            "left": null
          }
        },
        "ce740703d55a48daad76e9f35af622c2": {
          "model_module": "@jupyter-widgets/controls",
          "model_name": "DescriptionStyleModel",
          "model_module_version": "1.5.0",
          "state": {
            "_view_name": "StyleView",
            "_model_name": "DescriptionStyleModel",
            "description_width": "",
            "_view_module": "@jupyter-widgets/base",
            "_model_module_version": "1.5.0",
            "_view_count": null,
            "_view_module_version": "1.2.0",
            "_model_module": "@jupyter-widgets/controls"
          }
        },
        "e1bf6ee5f7cd412e84a861d3c0f692ac": {
          "model_module": "@jupyter-widgets/base",
          "model_name": "LayoutModel",
          "model_module_version": "1.2.0",
          "state": {
            "_view_name": "LayoutView",
            "grid_template_rows": null,
            "right": null,
            "justify_content": null,
            "_view_module": "@jupyter-widgets/base",
            "overflow": null,
            "_model_module_version": "1.2.0",
            "_view_count": null,
            "flex_flow": null,
            "width": null,
            "min_width": null,
            "border": null,
            "align_items": null,
            "bottom": null,
            "_model_module": "@jupyter-widgets/base",
            "top": null,
            "grid_column": null,
            "overflow_y": null,
            "overflow_x": null,
            "grid_auto_flow": null,
            "grid_area": null,
            "grid_template_columns": null,
            "flex": null,
            "_model_name": "LayoutModel",
            "justify_items": null,
            "grid_row": null,
            "max_height": null,
            "align_content": null,
            "visibility": null,
            "align_self": null,
            "height": null,
            "min_height": null,
            "padding": null,
            "grid_auto_rows": null,
            "grid_gap": null,
            "max_width": null,
            "order": null,
            "_view_module_version": "1.2.0",
            "grid_template_areas": null,
            "object_position": null,
            "object_fit": null,
            "grid_auto_columns": null,
            "margin": null,
            "display": null,
            "left": null
          }
        },
        "725587844d4845eb8e3c34eb532a7f26": {
          "model_module": "@jupyter-widgets/controls",
          "model_name": "HBoxModel",
          "model_module_version": "1.5.0",
          "state": {
            "_view_name": "HBoxView",
            "_dom_classes": [],
            "_model_name": "HBoxModel",
            "_view_module": "@jupyter-widgets/controls",
            "_model_module_version": "1.5.0",
            "_view_count": null,
            "_view_module_version": "1.5.0",
            "box_style": "",
            "layout": "IPY_MODEL_4e42755cd7c94785a352c0de4b955e79",
            "_model_module": "@jupyter-widgets/controls",
            "children": [
              "IPY_MODEL_a89543f4fdf3421982ef96e1f5872d07",
              "IPY_MODEL_2caa4decba5544e8af5b95b1b6d9dade",
              "IPY_MODEL_af353f52a9a54168b08682cf49c68b12"
            ]
          }
        },
        "4e42755cd7c94785a352c0de4b955e79": {
          "model_module": "@jupyter-widgets/base",
          "model_name": "LayoutModel",
          "model_module_version": "1.2.0",
          "state": {
            "_view_name": "LayoutView",
            "grid_template_rows": null,
            "right": null,
            "justify_content": null,
            "_view_module": "@jupyter-widgets/base",
            "overflow": null,
            "_model_module_version": "1.2.0",
            "_view_count": null,
            "flex_flow": null,
            "width": null,
            "min_width": null,
            "border": null,
            "align_items": null,
            "bottom": null,
            "_model_module": "@jupyter-widgets/base",
            "top": null,
            "grid_column": null,
            "overflow_y": null,
            "overflow_x": null,
            "grid_auto_flow": null,
            "grid_area": null,
            "grid_template_columns": null,
            "flex": null,
            "_model_name": "LayoutModel",
            "justify_items": null,
            "grid_row": null,
            "max_height": null,
            "align_content": null,
            "visibility": null,
            "align_self": null,
            "height": null,
            "min_height": null,
            "padding": null,
            "grid_auto_rows": null,
            "grid_gap": null,
            "max_width": null,
            "order": null,
            "_view_module_version": "1.2.0",
            "grid_template_areas": null,
            "object_position": null,
            "object_fit": null,
            "grid_auto_columns": null,
            "margin": null,
            "display": null,
            "left": null
          }
        },
        "a89543f4fdf3421982ef96e1f5872d07": {
          "model_module": "@jupyter-widgets/controls",
          "model_name": "HTMLModel",
          "model_module_version": "1.5.0",
          "state": {
            "_view_name": "HTMLView",
            "style": "IPY_MODEL_eddecca73d3a43a1bdc8298cd52daa91",
            "_dom_classes": [],
            "description": "",
            "_model_name": "HTMLModel",
            "placeholder": "​",
            "_view_module": "@jupyter-widgets/controls",
            "_model_module_version": "1.5.0",
            "value": "Downloading: 100%",
            "_view_count": null,
            "_view_module_version": "1.5.0",
            "description_tooltip": null,
            "_model_module": "@jupyter-widgets/controls",
            "layout": "IPY_MODEL_d03ae7c50cbc44dea1672ce68a082c5d"
          }
        },
        "2caa4decba5544e8af5b95b1b6d9dade": {
          "model_module": "@jupyter-widgets/controls",
          "model_name": "FloatProgressModel",
          "model_module_version": "1.5.0",
          "state": {
            "_view_name": "ProgressView",
            "style": "IPY_MODEL_b3491f45854c445aaa3d7b4319268726",
            "_dom_classes": [],
            "description": "",
            "_model_name": "FloatProgressModel",
            "bar_style": "success",
            "max": 736,
            "_view_module": "@jupyter-widgets/controls",
            "_model_module_version": "1.5.0",
            "value": 736,
            "_view_count": null,
            "_view_module_version": "1.5.0",
            "orientation": "horizontal",
            "min": 0,
            "description_tooltip": null,
            "_model_module": "@jupyter-widgets/controls",
            "layout": "IPY_MODEL_e0b4b7dc231c4b249e9c003f9e2cdab7"
          }
        },
        "af353f52a9a54168b08682cf49c68b12": {
          "model_module": "@jupyter-widgets/controls",
          "model_name": "HTMLModel",
          "model_module_version": "1.5.0",
          "state": {
            "_view_name": "HTMLView",
            "style": "IPY_MODEL_2db96662b5aa4b7aaf7cad9d6ec1febc",
            "_dom_classes": [],
            "description": "",
            "_model_name": "HTMLModel",
            "placeholder": "​",
            "_view_module": "@jupyter-widgets/controls",
            "_model_module_version": "1.5.0",
            "value": " 736/736 [00:00&lt;00:00, 23.8kB/s]",
            "_view_count": null,
            "_view_module_version": "1.5.0",
            "description_tooltip": null,
            "_model_module": "@jupyter-widgets/controls",
            "layout": "IPY_MODEL_359eda3a1bac4975bae642807db1c88e"
          }
        },
        "eddecca73d3a43a1bdc8298cd52daa91": {
          "model_module": "@jupyter-widgets/controls",
          "model_name": "DescriptionStyleModel",
          "model_module_version": "1.5.0",
          "state": {
            "_view_name": "StyleView",
            "_model_name": "DescriptionStyleModel",
            "description_width": "",
            "_view_module": "@jupyter-widgets/base",
            "_model_module_version": "1.5.0",
            "_view_count": null,
            "_view_module_version": "1.2.0",
            "_model_module": "@jupyter-widgets/controls"
          }
        },
        "d03ae7c50cbc44dea1672ce68a082c5d": {
          "model_module": "@jupyter-widgets/base",
          "model_name": "LayoutModel",
          "model_module_version": "1.2.0",
          "state": {
            "_view_name": "LayoutView",
            "grid_template_rows": null,
            "right": null,
            "justify_content": null,
            "_view_module": "@jupyter-widgets/base",
            "overflow": null,
            "_model_module_version": "1.2.0",
            "_view_count": null,
            "flex_flow": null,
            "width": null,
            "min_width": null,
            "border": null,
            "align_items": null,
            "bottom": null,
            "_model_module": "@jupyter-widgets/base",
            "top": null,
            "grid_column": null,
            "overflow_y": null,
            "overflow_x": null,
            "grid_auto_flow": null,
            "grid_area": null,
            "grid_template_columns": null,
            "flex": null,
            "_model_name": "LayoutModel",
            "justify_items": null,
            "grid_row": null,
            "max_height": null,
            "align_content": null,
            "visibility": null,
            "align_self": null,
            "height": null,
            "min_height": null,
            "padding": null,
            "grid_auto_rows": null,
            "grid_gap": null,
            "max_width": null,
            "order": null,
            "_view_module_version": "1.2.0",
            "grid_template_areas": null,
            "object_position": null,
            "object_fit": null,
            "grid_auto_columns": null,
            "margin": null,
            "display": null,
            "left": null
          }
        },
        "b3491f45854c445aaa3d7b4319268726": {
          "model_module": "@jupyter-widgets/controls",
          "model_name": "ProgressStyleModel",
          "model_module_version": "1.5.0",
          "state": {
            "_view_name": "StyleView",
            "_model_name": "ProgressStyleModel",
            "description_width": "",
            "_view_module": "@jupyter-widgets/base",
            "_model_module_version": "1.5.0",
            "_view_count": null,
            "_view_module_version": "1.2.0",
            "bar_color": null,
            "_model_module": "@jupyter-widgets/controls"
          }
        },
        "e0b4b7dc231c4b249e9c003f9e2cdab7": {
          "model_module": "@jupyter-widgets/base",
          "model_name": "LayoutModel",
          "model_module_version": "1.2.0",
          "state": {
            "_view_name": "LayoutView",
            "grid_template_rows": null,
            "right": null,
            "justify_content": null,
            "_view_module": "@jupyter-widgets/base",
            "overflow": null,
            "_model_module_version": "1.2.0",
            "_view_count": null,
            "flex_flow": null,
            "width": null,
            "min_width": null,
            "border": null,
            "align_items": null,
            "bottom": null,
            "_model_module": "@jupyter-widgets/base",
            "top": null,
            "grid_column": null,
            "overflow_y": null,
            "overflow_x": null,
            "grid_auto_flow": null,
            "grid_area": null,
            "grid_template_columns": null,
            "flex": null,
            "_model_name": "LayoutModel",
            "justify_items": null,
            "grid_row": null,
            "max_height": null,
            "align_content": null,
            "visibility": null,
            "align_self": null,
            "height": null,
            "min_height": null,
            "padding": null,
            "grid_auto_rows": null,
            "grid_gap": null,
            "max_width": null,
            "order": null,
            "_view_module_version": "1.2.0",
            "grid_template_areas": null,
            "object_position": null,
            "object_fit": null,
            "grid_auto_columns": null,
            "margin": null,
            "display": null,
            "left": null
          }
        },
        "2db96662b5aa4b7aaf7cad9d6ec1febc": {
          "model_module": "@jupyter-widgets/controls",
          "model_name": "DescriptionStyleModel",
          "model_module_version": "1.5.0",
          "state": {
            "_view_name": "StyleView",
            "_model_name": "DescriptionStyleModel",
            "description_width": "",
            "_view_module": "@jupyter-widgets/base",
            "_model_module_version": "1.5.0",
            "_view_count": null,
            "_view_module_version": "1.2.0",
            "_model_module": "@jupyter-widgets/controls"
          }
        },
        "359eda3a1bac4975bae642807db1c88e": {
          "model_module": "@jupyter-widgets/base",
          "model_name": "LayoutModel",
          "model_module_version": "1.2.0",
          "state": {
            "_view_name": "LayoutView",
            "grid_template_rows": null,
            "right": null,
            "justify_content": null,
            "_view_module": "@jupyter-widgets/base",
            "overflow": null,
            "_model_module_version": "1.2.0",
            "_view_count": null,
            "flex_flow": null,
            "width": null,
            "min_width": null,
            "border": null,
            "align_items": null,
            "bottom": null,
            "_model_module": "@jupyter-widgets/base",
            "top": null,
            "grid_column": null,
            "overflow_y": null,
            "overflow_x": null,
            "grid_auto_flow": null,
            "grid_area": null,
            "grid_template_columns": null,
            "flex": null,
            "_model_name": "LayoutModel",
            "justify_items": null,
            "grid_row": null,
            "max_height": null,
            "align_content": null,
            "visibility": null,
            "align_self": null,
            "height": null,
            "min_height": null,
            "padding": null,
            "grid_auto_rows": null,
            "grid_gap": null,
            "max_width": null,
            "order": null,
            "_view_module_version": "1.2.0",
            "grid_template_areas": null,
            "object_position": null,
            "object_fit": null,
            "grid_auto_columns": null,
            "margin": null,
            "display": null,
            "left": null
          }
        },
        "5081d82efb9b4e07b1317949e5535438": {
          "model_module": "@jupyter-widgets/controls",
          "model_name": "HBoxModel",
          "model_module_version": "1.5.0",
          "state": {
            "_view_name": "HBoxView",
            "_dom_classes": [],
            "_model_name": "HBoxModel",
            "_view_module": "@jupyter-widgets/controls",
            "_model_module_version": "1.5.0",
            "_view_count": null,
            "_view_module_version": "1.5.0",
            "box_style": "",
            "layout": "IPY_MODEL_c012012534ae4b25a632c6b74ed4f888",
            "_model_module": "@jupyter-widgets/controls",
            "children": [
              "IPY_MODEL_dd45640974db4a1cb92636dfd438dd6e",
              "IPY_MODEL_35a21d4c7f7043138ad5ee8d208ebf0d",
              "IPY_MODEL_52b90e09379848b1b13ceea85978fec1"
            ]
          }
        },
        "c012012534ae4b25a632c6b74ed4f888": {
          "model_module": "@jupyter-widgets/base",
          "model_name": "LayoutModel",
          "model_module_version": "1.2.0",
          "state": {
            "_view_name": "LayoutView",
            "grid_template_rows": null,
            "right": null,
            "justify_content": null,
            "_view_module": "@jupyter-widgets/base",
            "overflow": null,
            "_model_module_version": "1.2.0",
            "_view_count": null,
            "flex_flow": null,
            "width": null,
            "min_width": null,
            "border": null,
            "align_items": null,
            "bottom": null,
            "_model_module": "@jupyter-widgets/base",
            "top": null,
            "grid_column": null,
            "overflow_y": null,
            "overflow_x": null,
            "grid_auto_flow": null,
            "grid_area": null,
            "grid_template_columns": null,
            "flex": null,
            "_model_name": "LayoutModel",
            "justify_items": null,
            "grid_row": null,
            "max_height": null,
            "align_content": null,
            "visibility": null,
            "align_self": null,
            "height": null,
            "min_height": null,
            "padding": null,
            "grid_auto_rows": null,
            "grid_gap": null,
            "max_width": null,
            "order": null,
            "_view_module_version": "1.2.0",
            "grid_template_areas": null,
            "object_position": null,
            "object_fit": null,
            "grid_auto_columns": null,
            "margin": null,
            "display": null,
            "left": null
          }
        },
        "dd45640974db4a1cb92636dfd438dd6e": {
          "model_module": "@jupyter-widgets/controls",
          "model_name": "HTMLModel",
          "model_module_version": "1.5.0",
          "state": {
            "_view_name": "HTMLView",
            "style": "IPY_MODEL_2e649a7be34b4427a781b787c4e15166",
            "_dom_classes": [],
            "description": "",
            "_model_name": "HTMLModel",
            "placeholder": "​",
            "_view_module": "@jupyter-widgets/controls",
            "_model_module_version": "1.5.0",
            "value": "Downloading: 100%",
            "_view_count": null,
            "_view_module_version": "1.5.0",
            "description_tooltip": null,
            "_model_module": "@jupyter-widgets/controls",
            "layout": "IPY_MODEL_cbe25000d785408187c9e833a78d67d7"
          }
        },
        "35a21d4c7f7043138ad5ee8d208ebf0d": {
          "model_module": "@jupyter-widgets/controls",
          "model_name": "FloatProgressModel",
          "model_module_version": "1.5.0",
          "state": {
            "_view_name": "ProgressView",
            "style": "IPY_MODEL_c8130d4c54144ae1b6b6ea93ebada418",
            "_dom_classes": [],
            "description": "",
            "_model_name": "FloatProgressModel",
            "bar_style": "success",
            "max": 791656,
            "_view_module": "@jupyter-widgets/controls",
            "_model_module_version": "1.5.0",
            "value": 791656,
            "_view_count": null,
            "_view_module_version": "1.5.0",
            "orientation": "horizontal",
            "min": 0,
            "description_tooltip": null,
            "_model_module": "@jupyter-widgets/controls",
            "layout": "IPY_MODEL_113f87fa1c5b4dd895239c744412cfb7"
          }
        },
        "52b90e09379848b1b13ceea85978fec1": {
          "model_module": "@jupyter-widgets/controls",
          "model_name": "HTMLModel",
          "model_module_version": "1.5.0",
          "state": {
            "_view_name": "HTMLView",
            "style": "IPY_MODEL_fc931de6cd9b4c618373465b47171904",
            "_dom_classes": [],
            "description": "",
            "_model_name": "HTMLModel",
            "placeholder": "​",
            "_view_module": "@jupyter-widgets/controls",
            "_model_module_version": "1.5.0",
            "value": " 773k/773k [00:00&lt;00:00, 927kB/s]",
            "_view_count": null,
            "_view_module_version": "1.5.0",
            "description_tooltip": null,
            "_model_module": "@jupyter-widgets/controls",
            "layout": "IPY_MODEL_6cc86c07d5244e478e8b662388c5ac2c"
          }
        },
        "2e649a7be34b4427a781b787c4e15166": {
          "model_module": "@jupyter-widgets/controls",
          "model_name": "DescriptionStyleModel",
          "model_module_version": "1.5.0",
          "state": {
            "_view_name": "StyleView",
            "_model_name": "DescriptionStyleModel",
            "description_width": "",
            "_view_module": "@jupyter-widgets/base",
            "_model_module_version": "1.5.0",
            "_view_count": null,
            "_view_module_version": "1.2.0",
            "_model_module": "@jupyter-widgets/controls"
          }
        },
        "cbe25000d785408187c9e833a78d67d7": {
          "model_module": "@jupyter-widgets/base",
          "model_name": "LayoutModel",
          "model_module_version": "1.2.0",
          "state": {
            "_view_name": "LayoutView",
            "grid_template_rows": null,
            "right": null,
            "justify_content": null,
            "_view_module": "@jupyter-widgets/base",
            "overflow": null,
            "_model_module_version": "1.2.0",
            "_view_count": null,
            "flex_flow": null,
            "width": null,
            "min_width": null,
            "border": null,
            "align_items": null,
            "bottom": null,
            "_model_module": "@jupyter-widgets/base",
            "top": null,
            "grid_column": null,
            "overflow_y": null,
            "overflow_x": null,
            "grid_auto_flow": null,
            "grid_area": null,
            "grid_template_columns": null,
            "flex": null,
            "_model_name": "LayoutModel",
            "justify_items": null,
            "grid_row": null,
            "max_height": null,
            "align_content": null,
            "visibility": null,
            "align_self": null,
            "height": null,
            "min_height": null,
            "padding": null,
            "grid_auto_rows": null,
            "grid_gap": null,
            "max_width": null,
            "order": null,
            "_view_module_version": "1.2.0",
            "grid_template_areas": null,
            "object_position": null,
            "object_fit": null,
            "grid_auto_columns": null,
            "margin": null,
            "display": null,
            "left": null
          }
        },
        "c8130d4c54144ae1b6b6ea93ebada418": {
          "model_module": "@jupyter-widgets/controls",
          "model_name": "ProgressStyleModel",
          "model_module_version": "1.5.0",
          "state": {
            "_view_name": "StyleView",
            "_model_name": "ProgressStyleModel",
            "description_width": "",
            "_view_module": "@jupyter-widgets/base",
            "_model_module_version": "1.5.0",
            "_view_count": null,
            "_view_module_version": "1.2.0",
            "bar_color": null,
            "_model_module": "@jupyter-widgets/controls"
          }
        },
        "113f87fa1c5b4dd895239c744412cfb7": {
          "model_module": "@jupyter-widgets/base",
          "model_name": "LayoutModel",
          "model_module_version": "1.2.0",
          "state": {
            "_view_name": "LayoutView",
            "grid_template_rows": null,
            "right": null,
            "justify_content": null,
            "_view_module": "@jupyter-widgets/base",
            "overflow": null,
            "_model_module_version": "1.2.0",
            "_view_count": null,
            "flex_flow": null,
            "width": null,
            "min_width": null,
            "border": null,
            "align_items": null,
            "bottom": null,
            "_model_module": "@jupyter-widgets/base",
            "top": null,
            "grid_column": null,
            "overflow_y": null,
            "overflow_x": null,
            "grid_auto_flow": null,
            "grid_area": null,
            "grid_template_columns": null,
            "flex": null,
            "_model_name": "LayoutModel",
            "justify_items": null,
            "grid_row": null,
            "max_height": null,
            "align_content": null,
            "visibility": null,
            "align_self": null,
            "height": null,
            "min_height": null,
            "padding": null,
            "grid_auto_rows": null,
            "grid_gap": null,
            "max_width": null,
            "order": null,
            "_view_module_version": "1.2.0",
            "grid_template_areas": null,
            "object_position": null,
            "object_fit": null,
            "grid_auto_columns": null,
            "margin": null,
            "display": null,
            "left": null
          }
        },
        "fc931de6cd9b4c618373465b47171904": {
          "model_module": "@jupyter-widgets/controls",
          "model_name": "DescriptionStyleModel",
          "model_module_version": "1.5.0",
          "state": {
            "_view_name": "StyleView",
            "_model_name": "DescriptionStyleModel",
            "description_width": "",
            "_view_module": "@jupyter-widgets/base",
            "_model_module_version": "1.5.0",
            "_view_count": null,
            "_view_module_version": "1.2.0",
            "_model_module": "@jupyter-widgets/controls"
          }
        },
        "6cc86c07d5244e478e8b662388c5ac2c": {
          "model_module": "@jupyter-widgets/base",
          "model_name": "LayoutModel",
          "model_module_version": "1.2.0",
          "state": {
            "_view_name": "LayoutView",
            "grid_template_rows": null,
            "right": null,
            "justify_content": null,
            "_view_module": "@jupyter-widgets/base",
            "overflow": null,
            "_model_module_version": "1.2.0",
            "_view_count": null,
            "flex_flow": null,
            "width": null,
            "min_width": null,
            "border": null,
            "align_items": null,
            "bottom": null,
            "_model_module": "@jupyter-widgets/base",
            "top": null,
            "grid_column": null,
            "overflow_y": null,
            "overflow_x": null,
            "grid_auto_flow": null,
            "grid_area": null,
            "grid_template_columns": null,
            "flex": null,
            "_model_name": "LayoutModel",
            "justify_items": null,
            "grid_row": null,
            "max_height": null,
            "align_content": null,
            "visibility": null,
            "align_self": null,
            "height": null,
            "min_height": null,
            "padding": null,
            "grid_auto_rows": null,
            "grid_gap": null,
            "max_width": null,
            "order": null,
            "_view_module_version": "1.2.0",
            "grid_template_areas": null,
            "object_position": null,
            "object_fit": null,
            "grid_auto_columns": null,
            "margin": null,
            "display": null,
            "left": null
          }
        },
        "5b235417f31c49c5b706e5f2e4f8e9e0": {
          "model_module": "@jupyter-widgets/controls",
          "model_name": "HBoxModel",
          "model_module_version": "1.5.0",
          "state": {
            "_view_name": "HBoxView",
            "_dom_classes": [],
            "_model_name": "HBoxModel",
            "_view_module": "@jupyter-widgets/controls",
            "_model_module_version": "1.5.0",
            "_view_count": null,
            "_view_module_version": "1.5.0",
            "box_style": "",
            "layout": "IPY_MODEL_5959b560d81d4b46909ca996543c21cc",
            "_model_module": "@jupyter-widgets/controls",
            "children": [
              "IPY_MODEL_fceee85785df46ecb9a949e06ab3ff0e",
              "IPY_MODEL_0f98146111c046de8e3491cc4cc7da0d",
              "IPY_MODEL_d3d7c191d8794430a50c6da7131ba59b"
            ]
          }
        },
        "5959b560d81d4b46909ca996543c21cc": {
          "model_module": "@jupyter-widgets/base",
          "model_name": "LayoutModel",
          "model_module_version": "1.2.0",
          "state": {
            "_view_name": "LayoutView",
            "grid_template_rows": null,
            "right": null,
            "justify_content": null,
            "_view_module": "@jupyter-widgets/base",
            "overflow": null,
            "_model_module_version": "1.2.0",
            "_view_count": null,
            "flex_flow": null,
            "width": null,
            "min_width": null,
            "border": null,
            "align_items": null,
            "bottom": null,
            "_model_module": "@jupyter-widgets/base",
            "top": null,
            "grid_column": null,
            "overflow_y": null,
            "overflow_x": null,
            "grid_auto_flow": null,
            "grid_area": null,
            "grid_template_columns": null,
            "flex": null,
            "_model_name": "LayoutModel",
            "justify_items": null,
            "grid_row": null,
            "max_height": null,
            "align_content": null,
            "visibility": null,
            "align_self": null,
            "height": null,
            "min_height": null,
            "padding": null,
            "grid_auto_rows": null,
            "grid_gap": null,
            "max_width": null,
            "order": null,
            "_view_module_version": "1.2.0",
            "grid_template_areas": null,
            "object_position": null,
            "object_fit": null,
            "grid_auto_columns": null,
            "margin": null,
            "display": null,
            "left": null
          }
        },
        "fceee85785df46ecb9a949e06ab3ff0e": {
          "model_module": "@jupyter-widgets/controls",
          "model_name": "HTMLModel",
          "model_module_version": "1.5.0",
          "state": {
            "_view_name": "HTMLView",
            "style": "IPY_MODEL_dd09a158dae54b0b966047c862410129",
            "_dom_classes": [],
            "description": "",
            "_model_name": "HTMLModel",
            "placeholder": "​",
            "_view_module": "@jupyter-widgets/controls",
            "_model_module_version": "1.5.0",
            "value": "Downloading: 100%",
            "_view_count": null,
            "_view_module_version": "1.5.0",
            "description_tooltip": null,
            "_model_module": "@jupyter-widgets/controls",
            "layout": "IPY_MODEL_09157b5764c740848984d9602d03448c"
          }
        },
        "0f98146111c046de8e3491cc4cc7da0d": {
          "model_module": "@jupyter-widgets/controls",
          "model_name": "FloatProgressModel",
          "model_module_version": "1.5.0",
          "state": {
            "_view_name": "ProgressView",
            "style": "IPY_MODEL_74c0ac3b18d04c6b9d1efcc269005d0b",
            "_dom_classes": [],
            "description": "",
            "_model_name": "FloatProgressModel",
            "bar_style": "success",
            "max": 1786,
            "_view_module": "@jupyter-widgets/controls",
            "_model_module_version": "1.5.0",
            "value": 1786,
            "_view_count": null,
            "_view_module_version": "1.5.0",
            "orientation": "horizontal",
            "min": 0,
            "description_tooltip": null,
            "_model_module": "@jupyter-widgets/controls",
            "layout": "IPY_MODEL_3a309687bf3748c681e193e6b99715d0"
          }
        },
        "d3d7c191d8794430a50c6da7131ba59b": {
          "model_module": "@jupyter-widgets/controls",
          "model_name": "HTMLModel",
          "model_module_version": "1.5.0",
          "state": {
            "_view_name": "HTMLView",
            "style": "IPY_MODEL_cc83fef37ba44b029741b1fe63c92ce9",
            "_dom_classes": [],
            "description": "",
            "_model_name": "HTMLModel",
            "placeholder": "​",
            "_view_module": "@jupyter-widgets/controls",
            "_model_module_version": "1.5.0",
            "value": " 1.74k/1.74k [00:00&lt;00:00, 58.1kB/s]",
            "_view_count": null,
            "_view_module_version": "1.5.0",
            "description_tooltip": null,
            "_model_module": "@jupyter-widgets/controls",
            "layout": "IPY_MODEL_3909354250464fafa0b27aaf9906257e"
          }
        },
        "dd09a158dae54b0b966047c862410129": {
          "model_module": "@jupyter-widgets/controls",
          "model_name": "DescriptionStyleModel",
          "model_module_version": "1.5.0",
          "state": {
            "_view_name": "StyleView",
            "_model_name": "DescriptionStyleModel",
            "description_width": "",
            "_view_module": "@jupyter-widgets/base",
            "_model_module_version": "1.5.0",
            "_view_count": null,
            "_view_module_version": "1.2.0",
            "_model_module": "@jupyter-widgets/controls"
          }
        },
        "09157b5764c740848984d9602d03448c": {
          "model_module": "@jupyter-widgets/base",
          "model_name": "LayoutModel",
          "model_module_version": "1.2.0",
          "state": {
            "_view_name": "LayoutView",
            "grid_template_rows": null,
            "right": null,
            "justify_content": null,
            "_view_module": "@jupyter-widgets/base",
            "overflow": null,
            "_model_module_version": "1.2.0",
            "_view_count": null,
            "flex_flow": null,
            "width": null,
            "min_width": null,
            "border": null,
            "align_items": null,
            "bottom": null,
            "_model_module": "@jupyter-widgets/base",
            "top": null,
            "grid_column": null,
            "overflow_y": null,
            "overflow_x": null,
            "grid_auto_flow": null,
            "grid_area": null,
            "grid_template_columns": null,
            "flex": null,
            "_model_name": "LayoutModel",
            "justify_items": null,
            "grid_row": null,
            "max_height": null,
            "align_content": null,
            "visibility": null,
            "align_self": null,
            "height": null,
            "min_height": null,
            "padding": null,
            "grid_auto_rows": null,
            "grid_gap": null,
            "max_width": null,
            "order": null,
            "_view_module_version": "1.2.0",
            "grid_template_areas": null,
            "object_position": null,
            "object_fit": null,
            "grid_auto_columns": null,
            "margin": null,
            "display": null,
            "left": null
          }
        },
        "74c0ac3b18d04c6b9d1efcc269005d0b": {
          "model_module": "@jupyter-widgets/controls",
          "model_name": "ProgressStyleModel",
          "model_module_version": "1.5.0",
          "state": {
            "_view_name": "StyleView",
            "_model_name": "ProgressStyleModel",
            "description_width": "",
            "_view_module": "@jupyter-widgets/base",
            "_model_module_version": "1.5.0",
            "_view_count": null,
            "_view_module_version": "1.2.0",
            "bar_color": null,
            "_model_module": "@jupyter-widgets/controls"
          }
        },
        "3a309687bf3748c681e193e6b99715d0": {
          "model_module": "@jupyter-widgets/base",
          "model_name": "LayoutModel",
          "model_module_version": "1.2.0",
          "state": {
            "_view_name": "LayoutView",
            "grid_template_rows": null,
            "right": null,
            "justify_content": null,
            "_view_module": "@jupyter-widgets/base",
            "overflow": null,
            "_model_module_version": "1.2.0",
            "_view_count": null,
            "flex_flow": null,
            "width": null,
            "min_width": null,
            "border": null,
            "align_items": null,
            "bottom": null,
            "_model_module": "@jupyter-widgets/base",
            "top": null,
            "grid_column": null,
            "overflow_y": null,
            "overflow_x": null,
            "grid_auto_flow": null,
            "grid_area": null,
            "grid_template_columns": null,
            "flex": null,
            "_model_name": "LayoutModel",
            "justify_items": null,
            "grid_row": null,
            "max_height": null,
            "align_content": null,
            "visibility": null,
            "align_self": null,
            "height": null,
            "min_height": null,
            "padding": null,
            "grid_auto_rows": null,
            "grid_gap": null,
            "max_width": null,
            "order": null,
            "_view_module_version": "1.2.0",
            "grid_template_areas": null,
            "object_position": null,
            "object_fit": null,
            "grid_auto_columns": null,
            "margin": null,
            "display": null,
            "left": null
          }
        },
        "cc83fef37ba44b029741b1fe63c92ce9": {
          "model_module": "@jupyter-widgets/controls",
          "model_name": "DescriptionStyleModel",
          "model_module_version": "1.5.0",
          "state": {
            "_view_name": "StyleView",
            "_model_name": "DescriptionStyleModel",
            "description_width": "",
            "_view_module": "@jupyter-widgets/base",
            "_model_module_version": "1.5.0",
            "_view_count": null,
            "_view_module_version": "1.2.0",
            "_model_module": "@jupyter-widgets/controls"
          }
        },
        "3909354250464fafa0b27aaf9906257e": {
          "model_module": "@jupyter-widgets/base",
          "model_name": "LayoutModel",
          "model_module_version": "1.2.0",
          "state": {
            "_view_name": "LayoutView",
            "grid_template_rows": null,
            "right": null,
            "justify_content": null,
            "_view_module": "@jupyter-widgets/base",
            "overflow": null,
            "_model_module_version": "1.2.0",
            "_view_count": null,
            "flex_flow": null,
            "width": null,
            "min_width": null,
            "border": null,
            "align_items": null,
            "bottom": null,
            "_model_module": "@jupyter-widgets/base",
            "top": null,
            "grid_column": null,
            "overflow_y": null,
            "overflow_x": null,
            "grid_auto_flow": null,
            "grid_area": null,
            "grid_template_columns": null,
            "flex": null,
            "_model_name": "LayoutModel",
            "justify_items": null,
            "grid_row": null,
            "max_height": null,
            "align_content": null,
            "visibility": null,
            "align_self": null,
            "height": null,
            "min_height": null,
            "padding": null,
            "grid_auto_rows": null,
            "grid_gap": null,
            "max_width": null,
            "order": null,
            "_view_module_version": "1.2.0",
            "grid_template_areas": null,
            "object_position": null,
            "object_fit": null,
            "grid_auto_columns": null,
            "margin": null,
            "display": null,
            "left": null
          }
        },
        "d0dd007a63844580a195e436ffdd8f1f": {
          "model_module": "@jupyter-widgets/controls",
          "model_name": "HBoxModel",
          "model_module_version": "1.5.0",
          "state": {
            "_view_name": "HBoxView",
            "_dom_classes": [],
            "_model_name": "HBoxModel",
            "_view_module": "@jupyter-widgets/controls",
            "_model_module_version": "1.5.0",
            "_view_count": null,
            "_view_module_version": "1.5.0",
            "box_style": "",
            "layout": "IPY_MODEL_2ccd4bfcdf1f42708c2949e2ecd33cd2",
            "_model_module": "@jupyter-widgets/controls",
            "children": [
              "IPY_MODEL_467ae937143a4cb3b7e9b27f8183619f",
              "IPY_MODEL_62ae2e187a604be99a06676d99b080c7",
              "IPY_MODEL_47b9a92600ea43dd8513cee39cc37d1e"
            ]
          }
        },
        "2ccd4bfcdf1f42708c2949e2ecd33cd2": {
          "model_module": "@jupyter-widgets/base",
          "model_name": "LayoutModel",
          "model_module_version": "1.2.0",
          "state": {
            "_view_name": "LayoutView",
            "grid_template_rows": null,
            "right": null,
            "justify_content": null,
            "_view_module": "@jupyter-widgets/base",
            "overflow": null,
            "_model_module_version": "1.2.0",
            "_view_count": null,
            "flex_flow": null,
            "width": null,
            "min_width": null,
            "border": null,
            "align_items": null,
            "bottom": null,
            "_model_module": "@jupyter-widgets/base",
            "top": null,
            "grid_column": null,
            "overflow_y": null,
            "overflow_x": null,
            "grid_auto_flow": null,
            "grid_area": null,
            "grid_template_columns": null,
            "flex": null,
            "_model_name": "LayoutModel",
            "justify_items": null,
            "grid_row": null,
            "max_height": null,
            "align_content": null,
            "visibility": null,
            "align_self": null,
            "height": null,
            "min_height": null,
            "padding": null,
            "grid_auto_rows": null,
            "grid_gap": null,
            "max_width": null,
            "order": null,
            "_view_module_version": "1.2.0",
            "grid_template_areas": null,
            "object_position": null,
            "object_fit": null,
            "grid_auto_columns": null,
            "margin": null,
            "display": null,
            "left": null
          }
        },
        "467ae937143a4cb3b7e9b27f8183619f": {
          "model_module": "@jupyter-widgets/controls",
          "model_name": "HTMLModel",
          "model_module_version": "1.5.0",
          "state": {
            "_view_name": "HTMLView",
            "style": "IPY_MODEL_6d472d14c6c84ebe93235fa99684b79b",
            "_dom_classes": [],
            "description": "",
            "_model_name": "HTMLModel",
            "placeholder": "​",
            "_view_module": "@jupyter-widgets/controls",
            "_model_module_version": "1.5.0",
            "value": "Downloading: 100%",
            "_view_count": null,
            "_view_module_version": "1.5.0",
            "description_tooltip": null,
            "_model_module": "@jupyter-widgets/controls",
            "layout": "IPY_MODEL_19e09628ed5e43b9bbc28782ba6527ba"
          }
        },
        "62ae2e187a604be99a06676d99b080c7": {
          "model_module": "@jupyter-widgets/controls",
          "model_name": "FloatProgressModel",
          "model_module_version": "1.5.0",
          "state": {
            "_view_name": "ProgressView",
            "style": "IPY_MODEL_6882585b01f344d09e06f7871c45f39f",
            "_dom_classes": [],
            "description": "",
            "_model_name": "FloatProgressModel",
            "bar_style": "success",
            "max": 242068027,
            "_view_module": "@jupyter-widgets/controls",
            "_model_module_version": "1.5.0",
            "value": 242068027,
            "_view_count": null,
            "_view_module_version": "1.5.0",
            "orientation": "horizontal",
            "min": 0,
            "description_tooltip": null,
            "_model_module": "@jupyter-widgets/controls",
            "layout": "IPY_MODEL_e710c79c60f84677a0e58267c72da611"
          }
        },
        "47b9a92600ea43dd8513cee39cc37d1e": {
          "model_module": "@jupyter-widgets/controls",
          "model_name": "HTMLModel",
          "model_module_version": "1.5.0",
          "state": {
            "_view_name": "HTMLView",
            "style": "IPY_MODEL_128958906d25458fa4950a26f2bed711",
            "_dom_classes": [],
            "description": "",
            "_model_name": "HTMLModel",
            "placeholder": "​",
            "_view_module": "@jupyter-widgets/controls",
            "_model_module_version": "1.5.0",
            "value": " 231M/231M [00:08&lt;00:00, 38.0MB/s]",
            "_view_count": null,
            "_view_module_version": "1.5.0",
            "description_tooltip": null,
            "_model_module": "@jupyter-widgets/controls",
            "layout": "IPY_MODEL_6eb5162de87d4beab17914f81a2a34cb"
          }
        },
        "6d472d14c6c84ebe93235fa99684b79b": {
          "model_module": "@jupyter-widgets/controls",
          "model_name": "DescriptionStyleModel",
          "model_module_version": "1.5.0",
          "state": {
            "_view_name": "StyleView",
            "_model_name": "DescriptionStyleModel",
            "description_width": "",
            "_view_module": "@jupyter-widgets/base",
            "_model_module_version": "1.5.0",
            "_view_count": null,
            "_view_module_version": "1.2.0",
            "_model_module": "@jupyter-widgets/controls"
          }
        },
        "19e09628ed5e43b9bbc28782ba6527ba": {
          "model_module": "@jupyter-widgets/base",
          "model_name": "LayoutModel",
          "model_module_version": "1.2.0",
          "state": {
            "_view_name": "LayoutView",
            "grid_template_rows": null,
            "right": null,
            "justify_content": null,
            "_view_module": "@jupyter-widgets/base",
            "overflow": null,
            "_model_module_version": "1.2.0",
            "_view_count": null,
            "flex_flow": null,
            "width": null,
            "min_width": null,
            "border": null,
            "align_items": null,
            "bottom": null,
            "_model_module": "@jupyter-widgets/base",
            "top": null,
            "grid_column": null,
            "overflow_y": null,
            "overflow_x": null,
            "grid_auto_flow": null,
            "grid_area": null,
            "grid_template_columns": null,
            "flex": null,
            "_model_name": "LayoutModel",
            "justify_items": null,
            "grid_row": null,
            "max_height": null,
            "align_content": null,
            "visibility": null,
            "align_self": null,
            "height": null,
            "min_height": null,
            "padding": null,
            "grid_auto_rows": null,
            "grid_gap": null,
            "max_width": null,
            "order": null,
            "_view_module_version": "1.2.0",
            "grid_template_areas": null,
            "object_position": null,
            "object_fit": null,
            "grid_auto_columns": null,
            "margin": null,
            "display": null,
            "left": null
          }
        },
        "6882585b01f344d09e06f7871c45f39f": {
          "model_module": "@jupyter-widgets/controls",
          "model_name": "ProgressStyleModel",
          "model_module_version": "1.5.0",
          "state": {
            "_view_name": "StyleView",
            "_model_name": "ProgressStyleModel",
            "description_width": "",
            "_view_module": "@jupyter-widgets/base",
            "_model_module_version": "1.5.0",
            "_view_count": null,
            "_view_module_version": "1.2.0",
            "bar_color": null,
            "_model_module": "@jupyter-widgets/controls"
          }
        },
        "e710c79c60f84677a0e58267c72da611": {
          "model_module": "@jupyter-widgets/base",
          "model_name": "LayoutModel",
          "model_module_version": "1.2.0",
          "state": {
            "_view_name": "LayoutView",
            "grid_template_rows": null,
            "right": null,
            "justify_content": null,
            "_view_module": "@jupyter-widgets/base",
            "overflow": null,
            "_model_module_version": "1.2.0",
            "_view_count": null,
            "flex_flow": null,
            "width": null,
            "min_width": null,
            "border": null,
            "align_items": null,
            "bottom": null,
            "_model_module": "@jupyter-widgets/base",
            "top": null,
            "grid_column": null,
            "overflow_y": null,
            "overflow_x": null,
            "grid_auto_flow": null,
            "grid_area": null,
            "grid_template_columns": null,
            "flex": null,
            "_model_name": "LayoutModel",
            "justify_items": null,
            "grid_row": null,
            "max_height": null,
            "align_content": null,
            "visibility": null,
            "align_self": null,
            "height": null,
            "min_height": null,
            "padding": null,
            "grid_auto_rows": null,
            "grid_gap": null,
            "max_width": null,
            "order": null,
            "_view_module_version": "1.2.0",
            "grid_template_areas": null,
            "object_position": null,
            "object_fit": null,
            "grid_auto_columns": null,
            "margin": null,
            "display": null,
            "left": null
          }
        },
        "128958906d25458fa4950a26f2bed711": {
          "model_module": "@jupyter-widgets/controls",
          "model_name": "DescriptionStyleModel",
          "model_module_version": "1.5.0",
          "state": {
            "_view_name": "StyleView",
            "_model_name": "DescriptionStyleModel",
            "description_width": "",
            "_view_module": "@jupyter-widgets/base",
            "_model_module_version": "1.5.0",
            "_view_count": null,
            "_view_module_version": "1.2.0",
            "_model_module": "@jupyter-widgets/controls"
          }
        },
        "6eb5162de87d4beab17914f81a2a34cb": {
          "model_module": "@jupyter-widgets/base",
          "model_name": "LayoutModel",
          "model_module_version": "1.2.0",
          "state": {
            "_view_name": "LayoutView",
            "grid_template_rows": null,
            "right": null,
            "justify_content": null,
            "_view_module": "@jupyter-widgets/base",
            "overflow": null,
            "_model_module_version": "1.2.0",
            "_view_count": null,
            "flex_flow": null,
            "width": null,
            "min_width": null,
            "border": null,
            "align_items": null,
            "bottom": null,
            "_model_module": "@jupyter-widgets/base",
            "top": null,
            "grid_column": null,
            "overflow_y": null,
            "overflow_x": null,
            "grid_auto_flow": null,
            "grid_area": null,
            "grid_template_columns": null,
            "flex": null,
            "_model_name": "LayoutModel",
            "justify_items": null,
            "grid_row": null,
            "max_height": null,
            "align_content": null,
            "visibility": null,
            "align_self": null,
            "height": null,
            "min_height": null,
            "padding": null,
            "grid_auto_rows": null,
            "grid_gap": null,
            "max_width": null,
            "order": null,
            "_view_module_version": "1.2.0",
            "grid_template_areas": null,
            "object_position": null,
            "object_fit": null,
            "grid_auto_columns": null,
            "margin": null,
            "display": null,
            "left": null
          }
        }
      }
    }
  },
  "cells": [
    {
      "cell_type": "markdown",
      "source": [
        "# CS 410 Usage Tutorial\n",
        "\n",
        "\n",
        "This tutorial is a tutorial for loading the model, analysing the dataset and providing a method for inference on the trained model. Note that the training script is provided in a separate notebook for modularity."
      ],
      "metadata": {
        "id": "T8kSVJKzJrXb"
      }
    },
    {
      "cell_type": "markdown",
      "source": [
        "### Important Links:\n",
        "\n",
        "* Location for saved model: https://drive.google.com/drive/folders/11gDult7SE5hz2EhFwyqAz6_cFx0Y-vEE?usp=sharing\n",
        "* Location for preprocessed dataset: https://drive.google.com/file/d/1G8j9lX0mPtoUSVv4k_VSl5uUzR8F3fEF/view?usp=sharing"
      ],
      "metadata": {
        "id": "nksNUQPemN_r"
      }
    },
    {
      "cell_type": "code",
      "source": [
        "!pip install rouge-score\n",
        "!python3 -m pip install pytextrank\n",
        "!python3 -m spacy download en_core_web_sm\n",
        "!pip install transformers\n",
        "!pip install sentencepiece"
      ],
      "metadata": {
        "colab": {
          "base_uri": "https://localhost:8080/"
        },
        "id": "he3byCXToaMr",
        "outputId": "057c16b4-2485-4b58-afc3-c5a3efdd97ea"
      },
      "execution_count": 1,
      "outputs": [
        {
          "output_type": "stream",
          "name": "stdout",
          "text": [
            "Requirement already satisfied: rouge-score in /usr/local/lib/python3.7/dist-packages (0.0.4)\n",
            "Requirement already satisfied: nltk in /usr/local/lib/python3.7/dist-packages (from rouge-score) (3.2.5)\n",
            "Requirement already satisfied: absl-py in /usr/local/lib/python3.7/dist-packages (from rouge-score) (0.12.0)\n",
            "Requirement already satisfied: six>=1.14.0 in /usr/local/lib/python3.7/dist-packages (from rouge-score) (1.15.0)\n",
            "Requirement already satisfied: numpy in /usr/local/lib/python3.7/dist-packages (from rouge-score) (1.19.5)\n",
            "Requirement already satisfied: pytextrank in /usr/local/lib/python3.7/dist-packages (3.2.2)\n",
            "Requirement already satisfied: spacy>=3.0 in /usr/local/lib/python3.7/dist-packages (from pytextrank) (3.2.1)\n",
            "Requirement already satisfied: icecream>=2.1 in /usr/local/lib/python3.7/dist-packages (from pytextrank) (2.1.1)\n",
            "Requirement already satisfied: graphviz>=0.13 in /usr/local/lib/python3.7/dist-packages (from pytextrank) (0.19)\n",
            "Requirement already satisfied: scipy>=1.7 in /usr/local/lib/python3.7/dist-packages (from pytextrank) (1.7.3)\n",
            "Requirement already satisfied: networkx[default]>=2.6 in /usr/local/lib/python3.7/dist-packages (from pytextrank) (2.6.3)\n",
            "Requirement already satisfied: pygments>=2.7.4 in /usr/local/lib/python3.7/dist-packages (from pytextrank) (2.10.0)\n",
            "Requirement already satisfied: asttokens>=2.0.1 in /usr/local/lib/python3.7/dist-packages (from icecream>=2.1->pytextrank) (2.0.5)\n",
            "Requirement already satisfied: colorama>=0.3.9 in /usr/local/lib/python3.7/dist-packages (from icecream>=2.1->pytextrank) (0.4.4)\n",
            "Requirement already satisfied: executing>=0.3.1 in /usr/local/lib/python3.7/dist-packages (from icecream>=2.1->pytextrank) (0.8.2)\n",
            "Requirement already satisfied: six in /usr/local/lib/python3.7/dist-packages (from asttokens>=2.0.1->icecream>=2.1->pytextrank) (1.15.0)\n",
            "Requirement already satisfied: matplotlib>=3.3 in /usr/local/lib/python3.7/dist-packages (from networkx[default]>=2.6->pytextrank) (3.5.1)\n",
            "Requirement already satisfied: numpy>=1.19 in /usr/local/lib/python3.7/dist-packages (from networkx[default]>=2.6->pytextrank) (1.19.5)\n",
            "Requirement already satisfied: pandas>=1.1 in /usr/local/lib/python3.7/dist-packages (from networkx[default]>=2.6->pytextrank) (1.1.5)\n",
            "Requirement already satisfied: cycler>=0.10 in /usr/local/lib/python3.7/dist-packages (from matplotlib>=3.3->networkx[default]>=2.6->pytextrank) (0.11.0)\n",
            "Requirement already satisfied: pyparsing>=2.2.1 in /usr/local/lib/python3.7/dist-packages (from matplotlib>=3.3->networkx[default]>=2.6->pytextrank) (3.0.6)\n",
            "Requirement already satisfied: packaging>=20.0 in /usr/local/lib/python3.7/dist-packages (from matplotlib>=3.3->networkx[default]>=2.6->pytextrank) (21.3)\n",
            "Requirement already satisfied: python-dateutil>=2.7 in /usr/local/lib/python3.7/dist-packages (from matplotlib>=3.3->networkx[default]>=2.6->pytextrank) (2.8.2)\n",
            "Requirement already satisfied: fonttools>=4.22.0 in /usr/local/lib/python3.7/dist-packages (from matplotlib>=3.3->networkx[default]>=2.6->pytextrank) (4.28.3)\n",
            "Requirement already satisfied: kiwisolver>=1.0.1 in /usr/local/lib/python3.7/dist-packages (from matplotlib>=3.3->networkx[default]>=2.6->pytextrank) (1.3.2)\n",
            "Requirement already satisfied: pillow>=6.2.0 in /usr/local/lib/python3.7/dist-packages (from matplotlib>=3.3->networkx[default]>=2.6->pytextrank) (7.1.2)\n",
            "Requirement already satisfied: pytz>=2017.2 in /usr/local/lib/python3.7/dist-packages (from pandas>=1.1->networkx[default]>=2.6->pytextrank) (2018.9)\n",
            "Requirement already satisfied: jinja2 in /usr/local/lib/python3.7/dist-packages (from spacy>=3.0->pytextrank) (2.11.3)\n",
            "Requirement already satisfied: catalogue<2.1.0,>=2.0.6 in /usr/local/lib/python3.7/dist-packages (from spacy>=3.0->pytextrank) (2.0.6)\n",
            "Requirement already satisfied: typing-extensions<4.0.0.0,>=3.7.4 in /usr/local/lib/python3.7/dist-packages (from spacy>=3.0->pytextrank) (3.10.0.2)\n",
            "Requirement already satisfied: murmurhash<1.1.0,>=0.28.0 in /usr/local/lib/python3.7/dist-packages (from spacy>=3.0->pytextrank) (1.0.6)\n",
            "Requirement already satisfied: blis<0.8.0,>=0.4.0 in /usr/local/lib/python3.7/dist-packages (from spacy>=3.0->pytextrank) (0.4.1)\n",
            "Requirement already satisfied: typer<0.5.0,>=0.3.0 in /usr/local/lib/python3.7/dist-packages (from spacy>=3.0->pytextrank) (0.4.0)\n",
            "Requirement already satisfied: requests<3.0.0,>=2.13.0 in /usr/local/lib/python3.7/dist-packages (from spacy>=3.0->pytextrank) (2.23.0)\n",
            "Requirement already satisfied: preshed<3.1.0,>=3.0.2 in /usr/local/lib/python3.7/dist-packages (from spacy>=3.0->pytextrank) (3.0.6)\n",
            "Requirement already satisfied: srsly<3.0.0,>=2.4.1 in /usr/local/lib/python3.7/dist-packages (from spacy>=3.0->pytextrank) (2.4.2)\n",
            "Requirement already satisfied: langcodes<4.0.0,>=3.2.0 in /usr/local/lib/python3.7/dist-packages (from spacy>=3.0->pytextrank) (3.3.0)\n",
            "Requirement already satisfied: spacy-loggers<2.0.0,>=1.0.0 in /usr/local/lib/python3.7/dist-packages (from spacy>=3.0->pytextrank) (1.0.1)\n",
            "Requirement already satisfied: pathy>=0.3.5 in /usr/local/lib/python3.7/dist-packages (from spacy>=3.0->pytextrank) (0.6.1)\n",
            "Requirement already satisfied: cymem<2.1.0,>=2.0.2 in /usr/local/lib/python3.7/dist-packages (from spacy>=3.0->pytextrank) (2.0.6)\n",
            "Requirement already satisfied: wasabi<1.1.0,>=0.8.1 in /usr/local/lib/python3.7/dist-packages (from spacy>=3.0->pytextrank) (0.8.2)\n",
            "Requirement already satisfied: thinc<8.1.0,>=8.0.12 in /usr/local/lib/python3.7/dist-packages (from spacy>=3.0->pytextrank) (8.0.13)\n",
            "Requirement already satisfied: setuptools in /usr/local/lib/python3.7/dist-packages (from spacy>=3.0->pytextrank) (57.4.0)\n",
            "Requirement already satisfied: pydantic!=1.8,!=1.8.1,<1.9.0,>=1.7.4 in /usr/local/lib/python3.7/dist-packages (from spacy>=3.0->pytextrank) (1.8.2)\n",
            "Requirement already satisfied: spacy-legacy<3.1.0,>=3.0.8 in /usr/local/lib/python3.7/dist-packages (from spacy>=3.0->pytextrank) (3.0.8)\n",
            "Requirement already satisfied: tqdm<5.0.0,>=4.38.0 in /usr/local/lib/python3.7/dist-packages (from spacy>=3.0->pytextrank) (4.62.3)\n",
            "Requirement already satisfied: zipp>=0.5 in /usr/local/lib/python3.7/dist-packages (from catalogue<2.1.0,>=2.0.6->spacy>=3.0->pytextrank) (3.6.0)\n",
            "Requirement already satisfied: smart-open<6.0.0,>=5.0.0 in /usr/local/lib/python3.7/dist-packages (from pathy>=0.3.5->spacy>=3.0->pytextrank) (5.2.1)\n",
            "Requirement already satisfied: urllib3!=1.25.0,!=1.25.1,<1.26,>=1.21.1 in /usr/local/lib/python3.7/dist-packages (from requests<3.0.0,>=2.13.0->spacy>=3.0->pytextrank) (1.24.3)\n",
            "Requirement already satisfied: certifi>=2017.4.17 in /usr/local/lib/python3.7/dist-packages (from requests<3.0.0,>=2.13.0->spacy>=3.0->pytextrank) (2021.10.8)\n",
            "Requirement already satisfied: chardet<4,>=3.0.2 in /usr/local/lib/python3.7/dist-packages (from requests<3.0.0,>=2.13.0->spacy>=3.0->pytextrank) (3.0.4)\n",
            "Requirement already satisfied: idna<3,>=2.5 in /usr/local/lib/python3.7/dist-packages (from requests<3.0.0,>=2.13.0->spacy>=3.0->pytextrank) (2.10)\n",
            "Requirement already satisfied: click<9.0.0,>=7.1.1 in /usr/local/lib/python3.7/dist-packages (from typer<0.5.0,>=0.3.0->spacy>=3.0->pytextrank) (7.1.2)\n",
            "Requirement already satisfied: MarkupSafe>=0.23 in /usr/local/lib/python3.7/dist-packages (from jinja2->spacy>=3.0->pytextrank) (2.0.1)\n",
            "Collecting en-core-web-sm==3.2.0\n",
            "  Downloading https://github.com/explosion/spacy-models/releases/download/en_core_web_sm-3.2.0/en_core_web_sm-3.2.0-py3-none-any.whl (13.9 MB)\n",
            "\u001b[K     |████████████████████████████████| 13.9 MB 532 kB/s \n",
            "\u001b[?25hRequirement already satisfied: spacy<3.3.0,>=3.2.0 in /usr/local/lib/python3.7/dist-packages (from en-core-web-sm==3.2.0) (3.2.1)\n",
            "Requirement already satisfied: spacy-legacy<3.1.0,>=3.0.8 in /usr/local/lib/python3.7/dist-packages (from spacy<3.3.0,>=3.2.0->en-core-web-sm==3.2.0) (3.0.8)\n",
            "Requirement already satisfied: requests<3.0.0,>=2.13.0 in /usr/local/lib/python3.7/dist-packages (from spacy<3.3.0,>=3.2.0->en-core-web-sm==3.2.0) (2.23.0)\n",
            "Requirement already satisfied: catalogue<2.1.0,>=2.0.6 in /usr/local/lib/python3.7/dist-packages (from spacy<3.3.0,>=3.2.0->en-core-web-sm==3.2.0) (2.0.6)\n",
            "Requirement already satisfied: packaging>=20.0 in /usr/local/lib/python3.7/dist-packages (from spacy<3.3.0,>=3.2.0->en-core-web-sm==3.2.0) (21.3)\n",
            "Requirement already satisfied: cymem<2.1.0,>=2.0.2 in /usr/local/lib/python3.7/dist-packages (from spacy<3.3.0,>=3.2.0->en-core-web-sm==3.2.0) (2.0.6)\n",
            "Requirement already satisfied: spacy-loggers<2.0.0,>=1.0.0 in /usr/local/lib/python3.7/dist-packages (from spacy<3.3.0,>=3.2.0->en-core-web-sm==3.2.0) (1.0.1)\n",
            "Requirement already satisfied: pathy>=0.3.5 in /usr/local/lib/python3.7/dist-packages (from spacy<3.3.0,>=3.2.0->en-core-web-sm==3.2.0) (0.6.1)\n",
            "Requirement already satisfied: blis<0.8.0,>=0.4.0 in /usr/local/lib/python3.7/dist-packages (from spacy<3.3.0,>=3.2.0->en-core-web-sm==3.2.0) (0.4.1)\n",
            "Requirement already satisfied: srsly<3.0.0,>=2.4.1 in /usr/local/lib/python3.7/dist-packages (from spacy<3.3.0,>=3.2.0->en-core-web-sm==3.2.0) (2.4.2)\n",
            "Requirement already satisfied: murmurhash<1.1.0,>=0.28.0 in /usr/local/lib/python3.7/dist-packages (from spacy<3.3.0,>=3.2.0->en-core-web-sm==3.2.0) (1.0.6)\n",
            "Requirement already satisfied: jinja2 in /usr/local/lib/python3.7/dist-packages (from spacy<3.3.0,>=3.2.0->en-core-web-sm==3.2.0) (2.11.3)\n",
            "Requirement already satisfied: typing-extensions<4.0.0.0,>=3.7.4 in /usr/local/lib/python3.7/dist-packages (from spacy<3.3.0,>=3.2.0->en-core-web-sm==3.2.0) (3.10.0.2)\n",
            "Requirement already satisfied: setuptools in /usr/local/lib/python3.7/dist-packages (from spacy<3.3.0,>=3.2.0->en-core-web-sm==3.2.0) (57.4.0)\n",
            "Requirement already satisfied: thinc<8.1.0,>=8.0.12 in /usr/local/lib/python3.7/dist-packages (from spacy<3.3.0,>=3.2.0->en-core-web-sm==3.2.0) (8.0.13)\n",
            "Requirement already satisfied: typer<0.5.0,>=0.3.0 in /usr/local/lib/python3.7/dist-packages (from spacy<3.3.0,>=3.2.0->en-core-web-sm==3.2.0) (0.4.0)\n",
            "Requirement already satisfied: preshed<3.1.0,>=3.0.2 in /usr/local/lib/python3.7/dist-packages (from spacy<3.3.0,>=3.2.0->en-core-web-sm==3.2.0) (3.0.6)\n",
            "Requirement already satisfied: wasabi<1.1.0,>=0.8.1 in /usr/local/lib/python3.7/dist-packages (from spacy<3.3.0,>=3.2.0->en-core-web-sm==3.2.0) (0.8.2)\n",
            "Requirement already satisfied: numpy>=1.15.0 in /usr/local/lib/python3.7/dist-packages (from spacy<3.3.0,>=3.2.0->en-core-web-sm==3.2.0) (1.19.5)\n",
            "Requirement already satisfied: langcodes<4.0.0,>=3.2.0 in /usr/local/lib/python3.7/dist-packages (from spacy<3.3.0,>=3.2.0->en-core-web-sm==3.2.0) (3.3.0)\n",
            "Requirement already satisfied: tqdm<5.0.0,>=4.38.0 in /usr/local/lib/python3.7/dist-packages (from spacy<3.3.0,>=3.2.0->en-core-web-sm==3.2.0) (4.62.3)\n",
            "Requirement already satisfied: pydantic!=1.8,!=1.8.1,<1.9.0,>=1.7.4 in /usr/local/lib/python3.7/dist-packages (from spacy<3.3.0,>=3.2.0->en-core-web-sm==3.2.0) (1.8.2)\n",
            "Requirement already satisfied: zipp>=0.5 in /usr/local/lib/python3.7/dist-packages (from catalogue<2.1.0,>=2.0.6->spacy<3.3.0,>=3.2.0->en-core-web-sm==3.2.0) (3.6.0)\n",
            "Requirement already satisfied: pyparsing!=3.0.5,>=2.0.2 in /usr/local/lib/python3.7/dist-packages (from packaging>=20.0->spacy<3.3.0,>=3.2.0->en-core-web-sm==3.2.0) (3.0.6)\n",
            "Requirement already satisfied: smart-open<6.0.0,>=5.0.0 in /usr/local/lib/python3.7/dist-packages (from pathy>=0.3.5->spacy<3.3.0,>=3.2.0->en-core-web-sm==3.2.0) (5.2.1)\n",
            "Requirement already satisfied: chardet<4,>=3.0.2 in /usr/local/lib/python3.7/dist-packages (from requests<3.0.0,>=2.13.0->spacy<3.3.0,>=3.2.0->en-core-web-sm==3.2.0) (3.0.4)\n",
            "Requirement already satisfied: certifi>=2017.4.17 in /usr/local/lib/python3.7/dist-packages (from requests<3.0.0,>=2.13.0->spacy<3.3.0,>=3.2.0->en-core-web-sm==3.2.0) (2021.10.8)\n",
            "Requirement already satisfied: idna<3,>=2.5 in /usr/local/lib/python3.7/dist-packages (from requests<3.0.0,>=2.13.0->spacy<3.3.0,>=3.2.0->en-core-web-sm==3.2.0) (2.10)\n",
            "Requirement already satisfied: urllib3!=1.25.0,!=1.25.1,<1.26,>=1.21.1 in /usr/local/lib/python3.7/dist-packages (from requests<3.0.0,>=2.13.0->spacy<3.3.0,>=3.2.0->en-core-web-sm==3.2.0) (1.24.3)\n",
            "Requirement already satisfied: click<9.0.0,>=7.1.1 in /usr/local/lib/python3.7/dist-packages (from typer<0.5.0,>=0.3.0->spacy<3.3.0,>=3.2.0->en-core-web-sm==3.2.0) (7.1.2)\n",
            "Requirement already satisfied: MarkupSafe>=0.23 in /usr/local/lib/python3.7/dist-packages (from jinja2->spacy<3.3.0,>=3.2.0->en-core-web-sm==3.2.0) (2.0.1)\n",
            "\u001b[38;5;2m✔ Download and installation successful\u001b[0m\n",
            "You can now load the package via spacy.load('en_core_web_sm')\n",
            "Requirement already satisfied: transformers in /usr/local/lib/python3.7/dist-packages (4.13.0)\n",
            "Requirement already satisfied: filelock in /usr/local/lib/python3.7/dist-packages (from transformers) (3.4.0)\n",
            "Requirement already satisfied: numpy>=1.17 in /usr/local/lib/python3.7/dist-packages (from transformers) (1.19.5)\n",
            "Requirement already satisfied: requests in /usr/local/lib/python3.7/dist-packages (from transformers) (2.23.0)\n",
            "Requirement already satisfied: tokenizers<0.11,>=0.10.1 in /usr/local/lib/python3.7/dist-packages (from transformers) (0.10.3)\n",
            "Requirement already satisfied: tqdm>=4.27 in /usr/local/lib/python3.7/dist-packages (from transformers) (4.62.3)\n",
            "Requirement already satisfied: huggingface-hub<1.0,>=0.1.0 in /usr/local/lib/python3.7/dist-packages (from transformers) (0.2.1)\n",
            "Requirement already satisfied: importlib-metadata in /usr/local/lib/python3.7/dist-packages (from transformers) (4.8.2)\n",
            "Requirement already satisfied: sacremoses in /usr/local/lib/python3.7/dist-packages (from transformers) (0.0.46)\n",
            "Requirement already satisfied: regex!=2019.12.17 in /usr/local/lib/python3.7/dist-packages (from transformers) (2019.12.20)\n",
            "Requirement already satisfied: packaging>=20.0 in /usr/local/lib/python3.7/dist-packages (from transformers) (21.3)\n",
            "Requirement already satisfied: pyyaml>=5.1 in /usr/local/lib/python3.7/dist-packages (from transformers) (6.0)\n",
            "Requirement already satisfied: typing-extensions>=3.7.4.3 in /usr/local/lib/python3.7/dist-packages (from huggingface-hub<1.0,>=0.1.0->transformers) (3.10.0.2)\n",
            "Requirement already satisfied: pyparsing!=3.0.5,>=2.0.2 in /usr/local/lib/python3.7/dist-packages (from packaging>=20.0->transformers) (3.0.6)\n",
            "Requirement already satisfied: zipp>=0.5 in /usr/local/lib/python3.7/dist-packages (from importlib-metadata->transformers) (3.6.0)\n",
            "Requirement already satisfied: urllib3!=1.25.0,!=1.25.1,<1.26,>=1.21.1 in /usr/local/lib/python3.7/dist-packages (from requests->transformers) (1.24.3)\n",
            "Requirement already satisfied: idna<3,>=2.5 in /usr/local/lib/python3.7/dist-packages (from requests->transformers) (2.10)\n",
            "Requirement already satisfied: chardet<4,>=3.0.2 in /usr/local/lib/python3.7/dist-packages (from requests->transformers) (3.0.4)\n",
            "Requirement already satisfied: certifi>=2017.4.17 in /usr/local/lib/python3.7/dist-packages (from requests->transformers) (2021.10.8)\n",
            "Requirement already satisfied: joblib in /usr/local/lib/python3.7/dist-packages (from sacremoses->transformers) (1.1.0)\n",
            "Requirement already satisfied: click in /usr/local/lib/python3.7/dist-packages (from sacremoses->transformers) (7.1.2)\n",
            "Requirement already satisfied: six in /usr/local/lib/python3.7/dist-packages (from sacremoses->transformers) (1.15.0)\n",
            "Requirement already satisfied: sentencepiece in /usr/local/lib/python3.7/dist-packages (0.1.96)\n"
          ]
        }
      ]
    },
    {
      "cell_type": "code",
      "source": [
        "### Basic Imports\n",
        "import numpy as np\n",
        "import pandas as pd\n",
        "import torch\n",
        "import sklearn\n",
        "import matplotlib.pyplot as plt\n",
        "import spacy\n",
        "import pytextrank\n",
        "\n",
        "from google.colab import auth, drive\n",
        "import os\n",
        "\n",
        "from transformers import pipeline\n",
        "from transformers import T5Tokenizer, T5ForConditionalGeneration\n"
      ],
      "metadata": {
        "id": "IUSwpVyVKTnd"
      },
      "execution_count": 2,
      "outputs": []
    },
    {
      "cell_type": "code",
      "source": [
        "# Google Drive Authentication \n",
        "auth.authenticate_user()\n",
        "drive.mount('/content/gdrive/')\n"
      ],
      "metadata": {
        "colab": {
          "base_uri": "https://localhost:8080/"
        },
        "id": "0WLwwVnqKtx_",
        "outputId": "1c0eacba-be0e-4fb2-e63d-c6c53fee7603"
      },
      "execution_count": 3,
      "outputs": [
        {
          "output_type": "stream",
          "name": "stdout",
          "text": [
            "Drive already mounted at /content/gdrive/; to attempt to forcibly remount, call drive.mount(\"/content/gdrive/\", force_remount=True).\n"
          ]
        }
      ]
    },
    {
      "cell_type": "markdown",
      "source": [
        "## Part 1: Data Loading\n",
        "\n",
        "Note that the dataset is being loaded from google drive. "
      ],
      "metadata": {
        "id": "qp33G6oAJvA4"
      }
    },
    {
      "cell_type": "code",
      "source": [
        "# Google Drive Folder Update\n",
        "\n",
        "BASE_DATASET_FOLDER = \"TIS/\"\n",
        "ROOT_DATA_PATH = \"/content/gdrive/My Drive/\" + BASE_DATASET_FOLDER\n",
        "\n",
        "# Changing directory path \n",
        "os.chdir(ROOT_DATA_PATH)\n"
      ],
      "metadata": {
        "id": "XpdHDxpJKSmt"
      },
      "execution_count": 4,
      "outputs": []
    },
    {
      "cell_type": "code",
      "source": [
        "ls"
      ],
      "metadata": {
        "colab": {
          "base_uri": "https://localhost:8080/"
        },
        "id": "jrrEoF09fupe",
        "outputId": "2b131404-a626-4eb3-811f-cb90301793f0"
      },
      "execution_count": 5,
      "outputs": [
        {
          "output_type": "stream",
          "name": "stdout",
          "text": [
            " merged_prefix_transcript_description_summ.tsv  'TIS Presentation.gslides'\n",
            " summary-model                                   \u001b[0m\u001b[01;34mtisproj\u001b[0m/\n"
          ]
        }
      ]
    },
    {
      "cell_type": "markdown",
      "source": [
        "Now, we shall load preprocessed transcript file, called `merged_prefix_transcript_description_summ.tsv`.\n",
        "For running this notebook, this file can be downloaded and uploaded to colab from the following shared link:"
      ],
      "metadata": {
        "id": "VzWkwwpjL5cf"
      }
    },
    {
      "cell_type": "code",
      "source": [
        "# Loading the dataset from colab's mounted drive\n",
        "\n",
        "TSV_NAME = \"merged_prefix_transcript_description_summ.tsv\"\n",
        "\n",
        "podcast_df = pd.read_csv(TSV_NAME,sep='\\t',header=0)"
      ],
      "metadata": {
        "id": "Z-ZXTn2JKSpG"
      },
      "execution_count": 6,
      "outputs": []
    },
    {
      "cell_type": "code",
      "source": [
        "# Removing extra index column added while loading\n",
        "podcast_df = podcast_df.drop('Unnamed: 0', 1)\n",
        "\n",
        "# Head\n",
        "podcast_df.head()"
      ],
      "metadata": {
        "colab": {
          "base_uri": "https://localhost:8080/",
          "height": 293
        },
        "id": "cJQSbWEAMFhN",
        "outputId": "5e531f57-4116-4e04-b410-d213bd08a0e1"
      },
      "execution_count": 7,
      "outputs": [
        {
          "output_type": "execute_result",
          "data": {
            "text/html": [
              "<div>\n",
              "<style scoped>\n",
              "    .dataframe tbody tr th:only-of-type {\n",
              "        vertical-align: middle;\n",
              "    }\n",
              "\n",
              "    .dataframe tbody tr th {\n",
              "        vertical-align: top;\n",
              "    }\n",
              "\n",
              "    .dataframe thead th {\n",
              "        text-align: right;\n",
              "    }\n",
              "</style>\n",
              "<table border=\"1\" class=\"dataframe\">\n",
              "  <thead>\n",
              "    <tr style=\"text-align: right;\">\n",
              "      <th></th>\n",
              "      <th>episode_prefix</th>\n",
              "      <th>episode_transcript</th>\n",
              "      <th>episode_description</th>\n",
              "    </tr>\n",
              "  </thead>\n",
              "  <tbody>\n",
              "    <tr>\n",
              "      <th>0</th>\n",
              "      <td>6mKHxeVEUzsN9zd0qQZ1Vw</td>\n",
              "      <td>Hello and welcome back to Lab Rats. I'm France...</td>\n",
              "      <td>A and P of cranial nerves. Reference: Martini,...</td>\n",
              "    </tr>\n",
              "    <tr>\n",
              "      <th>1</th>\n",
              "      <td>0oVZ7OHBw3R6op5FioXQrQ</td>\n",
              "      <td>Hey guys. Thank you so much for listening to t...</td>\n",
              "      <td>Welcome back to the Hop-up Today we have spec...</td>\n",
              "    </tr>\n",
              "    <tr>\n",
              "      <th>2</th>\n",
              "      <td>2wRMKnRo5V3QW4Kny6tOvm</td>\n",
              "      <td>Hello, my name is David and this is a new seri...</td>\n",
              "      <td>Welcome to Our very 1st Podcast on all matters...</td>\n",
              "    </tr>\n",
              "    <tr>\n",
              "      <th>3</th>\n",
              "      <td>6sjqAv6M3mlKfY796hFIt3</td>\n",
              "      <td>I've got some exciting news and that's that. I...</td>\n",
              "      <td>If you’re ready to take action toward your goa...</td>\n",
              "    </tr>\n",
              "    <tr>\n",
              "      <th>4</th>\n",
              "      <td>6wQ70kw0apzaQhZae1NRdU</td>\n",
              "      <td>Welcome to the third season and episode 351 of...</td>\n",
              "      <td>Seneca uses a colorful analogy between life an...</td>\n",
              "    </tr>\n",
              "  </tbody>\n",
              "</table>\n",
              "</div>"
            ],
            "text/plain": [
              "           episode_prefix  ...                                episode_description\n",
              "0  6mKHxeVEUzsN9zd0qQZ1Vw  ...  A and P of cranial nerves. Reference: Martini,...\n",
              "1  0oVZ7OHBw3R6op5FioXQrQ  ...   Welcome back to the Hop-up Today we have spec...\n",
              "2  2wRMKnRo5V3QW4Kny6tOvm  ...  Welcome to Our very 1st Podcast on all matters...\n",
              "3  6sjqAv6M3mlKfY796hFIt3  ...  If you’re ready to take action toward your goa...\n",
              "4  6wQ70kw0apzaQhZae1NRdU  ...  Seneca uses a colorful analogy between life an...\n",
              "\n",
              "[5 rows x 3 columns]"
            ]
          },
          "metadata": {},
          "execution_count": 7
        }
      ]
    },
    {
      "cell_type": "markdown",
      "source": [
        "**Dataset Statistics**"
      ],
      "metadata": {
        "id": "wU79sSafOF3J"
      }
    },
    {
      "cell_type": "code",
      "source": [
        "# Dataset Size\n",
        "\n",
        "print(\"Total number of podcast episodes: {}\".format(len(podcast_df)))"
      ],
      "metadata": {
        "colab": {
          "base_uri": "https://localhost:8080/"
        },
        "id": "baLD3paoN4zO",
        "outputId": "14c95b24-6557-46ee-eead-08ac71d2ec56"
      },
      "execution_count": 8,
      "outputs": [
        {
          "output_type": "stream",
          "name": "stdout",
          "text": [
            "Total number of podcast episodes: 105360\n"
          ]
        }
      ]
    },
    {
      "cell_type": "code",
      "source": [
        "# Podcast Length Summary\n",
        "\n",
        "def get_word_len(row):\n",
        "  return len(row.split(' '))\n",
        "\n",
        "podcast_df['episode_len'] = podcast_df.apply(lambda row: get_word_len(row['episode_transcript']), axis=1)"
      ],
      "metadata": {
        "id": "1jlS0z5qOJkt"
      },
      "execution_count": 9,
      "outputs": []
    },
    {
      "cell_type": "code",
      "source": [
        "# Describe\n",
        "\n",
        "podcast_df.describe()"
      ],
      "metadata": {
        "colab": {
          "base_uri": "https://localhost:8080/",
          "height": 300
        },
        "id": "cEOcS103OJm5",
        "outputId": "d027a055-5c19-4e3d-8c28-26345335d6dc"
      },
      "execution_count": 10,
      "outputs": [
        {
          "output_type": "execute_result",
          "data": {
            "text/html": [
              "<div>\n",
              "<style scoped>\n",
              "    .dataframe tbody tr th:only-of-type {\n",
              "        vertical-align: middle;\n",
              "    }\n",
              "\n",
              "    .dataframe tbody tr th {\n",
              "        vertical-align: top;\n",
              "    }\n",
              "\n",
              "    .dataframe thead th {\n",
              "        text-align: right;\n",
              "    }\n",
              "</style>\n",
              "<table border=\"1\" class=\"dataframe\">\n",
              "  <thead>\n",
              "    <tr style=\"text-align: right;\">\n",
              "      <th></th>\n",
              "      <th>episode_len</th>\n",
              "    </tr>\n",
              "  </thead>\n",
              "  <tbody>\n",
              "    <tr>\n",
              "      <th>count</th>\n",
              "      <td>105360.000000</td>\n",
              "    </tr>\n",
              "    <tr>\n",
              "      <th>mean</th>\n",
              "      <td>5806.834804</td>\n",
              "    </tr>\n",
              "    <tr>\n",
              "      <th>std</th>\n",
              "      <td>4200.227461</td>\n",
              "    </tr>\n",
              "    <tr>\n",
              "      <th>min</th>\n",
              "      <td>12.000000</td>\n",
              "    </tr>\n",
              "    <tr>\n",
              "      <th>25%</th>\n",
              "      <td>2078.750000</td>\n",
              "    </tr>\n",
              "    <tr>\n",
              "      <th>50%</th>\n",
              "      <td>5274.000000</td>\n",
              "    </tr>\n",
              "    <tr>\n",
              "      <th>75%</th>\n",
              "      <td>8785.000000</td>\n",
              "    </tr>\n",
              "    <tr>\n",
              "      <th>max</th>\n",
              "      <td>44001.000000</td>\n",
              "    </tr>\n",
              "  </tbody>\n",
              "</table>\n",
              "</div>"
            ],
            "text/plain": [
              "         episode_len\n",
              "count  105360.000000\n",
              "mean     5806.834804\n",
              "std      4200.227461\n",
              "min        12.000000\n",
              "25%      2078.750000\n",
              "50%      5274.000000\n",
              "75%      8785.000000\n",
              "max     44001.000000"
            ]
          },
          "metadata": {},
          "execution_count": 10
        }
      ]
    },
    {
      "cell_type": "markdown",
      "source": [
        "We can see that there are `105360` data points i.e. unique episodes to train our models on. On an average, the episode transcript is `5000` words long. Taking an average of `150 words per minute`, we get an average podcast length of `33 minutes`. "
      ],
      "metadata": {
        "id": "yzWYmh_0RIdE"
      }
    },
    {
      "cell_type": "markdown",
      "source": [
        "**Dataset Manipulation for Compute Concerns**\n",
        "\n",
        "Note that in order to comply with limited computational time on GPU, we restrict the number of tokens in each `episode_transcript` to 7000, as instances greater than them would lead to code crash. \n",
        "\n",
        "The following lines of code make use of lambda functions and `apply` on Pandas Dataframes to efficiently carry out this computation over the entire dataframe."
      ],
      "metadata": {
        "id": "IoE9okkBNgeH"
      }
    },
    {
      "cell_type": "code",
      "source": [
        "def cap_word_len(row):\n",
        "  row_len = len(row.split(' '))\n",
        "\n",
        "  if(row_len>7000):\n",
        "    row_list = row.split(' ')[:7000]\n",
        "    smaller_row = ' '.join(row_list)\n",
        "    return smaller_row\n",
        "  else:\n",
        "    return row\n"
      ],
      "metadata": {
        "id": "ezjjgN9XKSrU"
      },
      "execution_count": 11,
      "outputs": []
    },
    {
      "cell_type": "code",
      "source": [
        "podcast_df['capped_episode_transcript'] = podcast_df.apply(lambda row: cap_word_len(row['episode_transcript']), axis=1)"
      ],
      "metadata": {
        "id": "tcj39oNSWbn1"
      },
      "execution_count": 12,
      "outputs": []
    },
    {
      "cell_type": "markdown",
      "source": [
        "Let us confirm the clipping by checking the length."
      ],
      "metadata": {
        "id": "OzXUW9eSWiTj"
      }
    },
    {
      "cell_type": "code",
      "source": [
        "podcast_df['capped_episode_len'] = podcast_df.apply(lambda row: get_word_len(row['capped_episode_transcript']), axis=1)"
      ],
      "metadata": {
        "id": "mZKiMQZiWbtS"
      },
      "execution_count": 13,
      "outputs": []
    },
    {
      "cell_type": "code",
      "source": [
        "podcast_df.describe()"
      ],
      "metadata": {
        "colab": {
          "base_uri": "https://localhost:8080/",
          "height": 300
        },
        "id": "bYLysl4eWm7n",
        "outputId": "62294283-172e-4d2d-b908-4b4e6e83c8f5"
      },
      "execution_count": 14,
      "outputs": [
        {
          "output_type": "execute_result",
          "data": {
            "text/html": [
              "<div>\n",
              "<style scoped>\n",
              "    .dataframe tbody tr th:only-of-type {\n",
              "        vertical-align: middle;\n",
              "    }\n",
              "\n",
              "    .dataframe tbody tr th {\n",
              "        vertical-align: top;\n",
              "    }\n",
              "\n",
              "    .dataframe thead th {\n",
              "        text-align: right;\n",
              "    }\n",
              "</style>\n",
              "<table border=\"1\" class=\"dataframe\">\n",
              "  <thead>\n",
              "    <tr style=\"text-align: right;\">\n",
              "      <th></th>\n",
              "      <th>episode_len</th>\n",
              "      <th>capped_episode_len</th>\n",
              "    </tr>\n",
              "  </thead>\n",
              "  <tbody>\n",
              "    <tr>\n",
              "      <th>count</th>\n",
              "      <td>105360.000000</td>\n",
              "      <td>105360.000000</td>\n",
              "    </tr>\n",
              "    <tr>\n",
              "      <th>mean</th>\n",
              "      <td>5806.834804</td>\n",
              "      <td>4539.273738</td>\n",
              "    </tr>\n",
              "    <tr>\n",
              "      <th>std</th>\n",
              "      <td>4200.227461</td>\n",
              "      <td>2496.514871</td>\n",
              "    </tr>\n",
              "    <tr>\n",
              "      <th>min</th>\n",
              "      <td>12.000000</td>\n",
              "      <td>12.000000</td>\n",
              "    </tr>\n",
              "    <tr>\n",
              "      <th>25%</th>\n",
              "      <td>2078.750000</td>\n",
              "      <td>2078.750000</td>\n",
              "    </tr>\n",
              "    <tr>\n",
              "      <th>50%</th>\n",
              "      <td>5274.000000</td>\n",
              "      <td>5274.000000</td>\n",
              "    </tr>\n",
              "    <tr>\n",
              "      <th>75%</th>\n",
              "      <td>8785.000000</td>\n",
              "      <td>7000.000000</td>\n",
              "    </tr>\n",
              "    <tr>\n",
              "      <th>max</th>\n",
              "      <td>44001.000000</td>\n",
              "      <td>7000.000000</td>\n",
              "    </tr>\n",
              "  </tbody>\n",
              "</table>\n",
              "</div>"
            ],
            "text/plain": [
              "         episode_len  capped_episode_len\n",
              "count  105360.000000       105360.000000\n",
              "mean     5806.834804         4539.273738\n",
              "std      4200.227461         2496.514871\n",
              "min        12.000000           12.000000\n",
              "25%      2078.750000         2078.750000\n",
              "50%      5274.000000         5274.000000\n",
              "75%      8785.000000         7000.000000\n",
              "max     44001.000000         7000.000000"
            ]
          },
          "metadata": {},
          "execution_count": 14
        }
      ]
    },
    {
      "cell_type": "markdown",
      "source": [
        "# Part 2: Evaluating model performance"
      ],
      "metadata": {
        "id": "DhmUqE2QWqSS"
      }
    },
    {
      "cell_type": "code",
      "source": [
        "# Defining the ROUGE score objective\n",
        "from rouge_score import rouge_scorer\n",
        "scorer = rouge_scorer.RougeScorer(['rouge1', 'rougeL'], use_stemmer=True)\n"
      ],
      "metadata": {
        "id": "XfguF3o0oND8"
      },
      "execution_count": 15,
      "outputs": []
    },
    {
      "cell_type": "markdown",
      "source": [
        "## Qualitative Analysis "
      ],
      "metadata": {
        "id": "xZEuQXW6wqOK"
      }
    },
    {
      "cell_type": "markdown",
      "source": [
        "Now, we shall demonstrate a qualitative analysis of the comparison of the two methods i.e. TextRank and T5\n"
      ],
      "metadata": {
        "id": "Y40bwDHUxyer"
      }
    },
    {
      "cell_type": "code",
      "source": [
        "transcript = \"Welcome to the bringing the human back to Human Resources Podcast. The podcast. All about the delicate balance between people and business, and quite literally, reconnecting the two. My name is Tracy Rubin and I've spent nearly my entire professional career in HR. Join me as I share stories, opinions and words of advice with you each week. Hey everyone, this is Tracy Rubin. Welcome back to the bringing the human back to Human Resources Podcast. It's officially week six, so I've been doing this podcast now for almost two months, which. I'm proud of it's exciting. It's an exciting opportunity for me to, you know, talk about whatever is on my mind and I think it gives me an opportunity also to interact with all of you. I really invite you to reach out if there's something that you want to talk about specifically or hear me talk about specifically and actually it leads me into the point of this week's podcast. But before I go into it, I want to give you a quick update on how I'm doing with my commitments. Two and improved or achieving a better work life balance. And on last week's podcast episode I said that I would be waking up at 5:00 AM everyday. I really meant Monday to Friday, which I clarified on Instagram. But waking up everyday at 5:00 AM. Getting myself ready to go for the day. Kind of giving back to myself. Creating routine, having that pseudo commute if you will. And I am here to tell you that I did just that. So I'm recording right now while I'm still in that week where I've committed to making those changes to achieve a better work life balance. And I actually I have to say like waking up at 5 which I used to do regularly. Feels so good again. Like I I feel actually more well rested, which could be because I'm going to sleep a little bit earlier. I'm giving myself time to do anything and everything that's not work related for like 4 hours before I even touch work. And so it's just a really nice improvement. So far. So I'm looking forward to keeping it up and I will continue to check back in and keep you guys updated. I hope that we all can as a little community. Hold each other accountable to these things so we can have better just experiences, especially while we're mostly, I would imagine most of us are working remotely if you're not working remotely. All the more reason to establish a really good routine because. It's not easy to be working in this environment or this climate right now, and so taking space for yourself, I think is still super critical. So to get into today's topic, I've had a lot of outreach around this topic for weeks now. Pretty much since the beginning of the podcast, and I've touched on it a little bit here and there, but I figured, why not dedicate a full episode to this, and it's probably going to result in my bringing on a guest and. A future episode to really dive into some actionable tips and tricks, but I wanted to talk about breaking into our and I've engaged with some of you over DMS on LinkedIn Messenger, and I've been able to give you some of my advice and thoughts individually, but I know that there are so many people who don't reach out and so hopefully if you're listening, this will help you. If you are considering a career in HR, I strongly recommend a career in HR. If you like the following things people business strategy, having an impact on people so. Great you like those things check right however you have to also know what you don't like because HR definitely will challenge you if you don't like the following things. Being resourceful and solutions oriented, feeling comfortable wearing many different hats and being extremely agile not only day-to-day and week to week but also minute to minute things. Change constantly and so that agility and adaptability is really really. Important you have to also have an appetite for some of the administration piece. I mean, even in my current role as a director, there's so much admin work still and we have an admin so you have to be comfortable with systems and operations. And I recognize that a lot of just roles and jobs call on all of these things, but I think the biggest thing is that if you don't like people and if you don't like helping people. Find a different career if you didn't want to hear the truth today, I'm sorry you got it, but that is the truth. If you don't like people and you don't like helping people, then this is the sign you've been waiting for that you should not pursue a career in HR. Certainly there are parts of HR that have less and less to do with people like you know some of the admin stuff you you could be doing a lot of manual entry and things like that. However, once you are a part of an HR team, people will see you as a resource. And so if you want to be an individual contributor in the sense that you have no impact or no involvement with the human element, don't come into this career. In the first episode, right? I talked to you guys about how my undying focus and goal is to destigmatize HR, and that's because there are people in HR who shouldn't be in HR who have stigmatized the career who don't care about people and don't want to help people and so. If you are not being honest with yourself, maybe you think you like people. Maybe you think you want to help people, but every time someone reaches out for help or support and you get irritated or you can't find the the motivation behind that. You at least should not be in a business partner role. Maybe there's an element of HR that you could get into, like maybe you really really like to do manual work and enter in data. Like maybe it's HR analytics that could be totally possible, but again, I really think and I don't know. Maybe I'm completely spoiled by the job that I'm currently in and the company that I work for, but I think that if you don't like people or you don't. Have an appetite for helping them that it's just not going to work out and actually think that's the case for management too. I don't know what jobs are out there where you don't have to work with people. Maybe it's like software development engineering, maybe I don't know. Are there jobs out there that don't deal with people? Hey, maybe not. If there aren't, then you better figure out a way to like people. That's all I have to say, but it's a fundamental part of this role. HR is a super super broad field. It's kind of like saying. Retail, right, like retail, could mean anything. Retail is literally any consumer product, consumer, brand, company. That's where retail is, right? The ability for someone to purchase what a company is selling, and so it's kind of the same with HR. Like what is HR? You can find HR anywhere in education, its personnel in retail. It's HR in tech, it's people, operations in medicine. It's HR. Two like there. Basically it's all in one in the same, and yet everything is completely different. So step one, find the industry that you feel you're best suited for and this can change overtime. When I graduated college, my mom was like this is your first job. It's not your last job and that is really good advice because I think if anyone can relate to the experience that I had when I was in college, I felt an incredible amount of pressure not only to get a job. But also almost like thinking in my mind that it was like the end all be all, and it's not. This year has been really challenging. I'm sure for recent graduates because they maybe have secured or had a secured their first job and then you know the pandemic hit and they either lost their jobs or they were furloughed. Or you know something potentially threw wrench into their plan and I couldn't imagine knowing the amount of pressure that I put on myself when I. Had my first job which was target out of college and I didn't like think past that. I almost and I don't know why. I don't know if I just. Thought that you go to a job and you stay there for 30 years because people who work at Johnson and Johnson do that. Like I, I think that that was my mentality. Now I mean, studies have shown that millennials are more likely to jump around between jobs within a year or two years of tenure in an organization. I wonder how the pandemic will change that people might see that now there's a bit more added value if you spend a longer time with the company. I personally, I mean now I've I've almost four years of my current company. I spent almost four years at Target. I haven't had an experience where I spent. Less than four years at this point, with an organization. But I know that it's real. It's a real thing and recruiters have actually had to change the way that they look at candidates. Knowing that millennials are much more likely to jump around, and that that's not necessarily reflection of their willingness to be loyal or their loyalty, I should say to a brand. So anyway, I digress. First thing is really again, figure out the industry for me. I had an experience in retail. So I knew I liked it when I was in college and in high school I had a lot of leadership experience and I knew that anything in business or management would really interest me because it's very similar. Of course, to a leadership experience you don't necessarily need to have all like all of those years of experience in order to even figure out what you like or dislike if you are considering a career in HR, first start with like the industry. It helps narrow it down, and I think. It's a lot easier than just looking for entry level roles across all industries because there actually are a lot, but it's really overwhelming and I don't know that it's necessarily time well spent to apply to every single entry level job. If you don't have HR experience just because it's a job, OK, so now you've narrowed down the industry. Maybe you have select 3 industries that you would really be interested in working in. Now. You should really think about OK, what area? Of HR interests me most, so maybe its payroll. Maybe its benefits? Maybe it's compensation, analytics people or business partnering administration recruiting. So when you take a look at all of those different facets of our and certainly there are more and there are subsets and we can go on and on. Think about what it is that you like and what you don't like. So for example, recruiting requires a lot of talking, a lot of patients. A lot of listening if you don't really like to meet tons and tons of people that are going to be really good candidates. Really bad candidates and everything in between. Maybe you don't even appreciate so much speaking on the phone or face timing. It's probably not going to be the right facet of HR for you. Conversely, if you really like numbers and you like strategy and analytics, payroll benefits compensation. Analytics those things actually really might interest you payroll. I have met people who love paper payroll and I have met people who hate payroll. And actually I am one of those naysayers of payroll. I knew after having my experience at Target where I was a generalist, really like an HR manager generalist, I had that payroll experience and I knew that it did not motivate me and so for me I was like, OK, I know I'm not going to do that. But I also knew that I loved. Interacting with people I loved connecting with employees, helping them solve their problems. You know, applying different strategies on the people and operations side of things. So it was very easy for me to realize that being a business partner or you know, being like a head of HR one day would be what I really wanted to go after. So kind of like think about what it is that your strengths are. What are your opportunities? What don't you like? What motivates you? That certainly should help. And then so now you have your industries. You have your likes and dislikes. Now you can get to applying to jobs. How do you do that? The first is reach out to your networks. I'm sure you've heard this a million times over. It's all about who you know, right? Like we hear that probably from a very young age and it's really true, like there's no denying it. That people and those connections, and who you know, really matter and and it might not necessarily mean that you get. A job because of who you know, but it's certainly can mean that you avoid the paper pushing and bureaucratic process of job application referrals. For example, if you have someone who works at a company that you really want to work for or that has a job posted that you're really interested in, reach out to someone that you know. Maybe you spoke with them ten years ago. Maybe you spoke with them two days ago. Reach out and say, hey, do you have an internal referral process? Because this is the job I'm really interested in. Can you refer me? I would love and really appreciate an opportunity at this, you know organization. If you're not that close with the person you're reaching out to, one of the ways that I would suggest reaching out if you don't really know the person, but you're familiar with whom they are. Or maybe it's a friend connecting you to one of their friends, have an authentic and real conversation first you know. Reach out, say, hey, do you? Can we grab a coffee in a non COVID world? Maybe stay safe? Can we FaceTime? I'd love to pick your brain on your experience. That is a really, really great way of building a network, but also not just saying. Hey, I'm hitting you up because I want to refer. OK thanks bye. This is an opportunity for you to actually like build a network or a connection on your own through the connection that you have or previously had with this person and it makes them feel good, right appeal to them. Be strategic, be authentic, but also use that as a way to ultimately get what you want. So now you have some of those tools in your tool belt, right? Like picking out the industry. Picking out the. Likes and dislikes or the things that you really want for a career, and then the third is leveraging your network, but the 4th is that your resume needs to reflect the skillset that the role requires. If you're applying to a recruiting position, you need to be able to reflect on your resume that you have some kind of skill set or experience with interpersonal communication. Communication skills in general. How you bring people together? How you keep networks and connections alive. If you're in a sorority or fraternity that's networking, right? So, highlight that. Really. Focus on the skill set. Because if you have even one year of establishing or generating, maintaining a skill set that can be applicable or transferable to the job that you're applying to, knowing how to talk to it is really important. OK, so let's take it way back. Let's say I'm. Back in college I went to Binghamton University in New York and I had internships every summer and usually during the winter also. And those internships I didn't necessarily have as much strategy for. I thought I was going to go into some sort of. Government work or environmental work like I studied English and I got a minor in environmental science. So clearly like that's not HR. That's not business, right? But I ultimately was able to translate my skillset. From what I gathered as a student and in my education and basically transfer that into a career with target in management. Like how do you do that, right? You do it in talking about your skill set, making sure your resume reflects the experience that you have had that's relevant to the job that you're applying to. When I was a senior in college, I went to a job fair that was on campus and historically the the vendors or the recruiters who were at the college fair were really looking for like finance and accounting students. Engineering students, prelaw Poli SCI and so. It could have easily deterred me from going, but I was like, hey, there could be someone interesting there. Let me go and I went, and certainly there was someone interesting there, and her name is target and they were speaking to me about my leadership experience. I would in a sorority, so I was. I held a few chair positions and leadership positions in that sorority. I was an RA. I was a tour guide like I was very involved and I was a student leader on campus. And so I was able to take all of that experience and translated into what ended up becoming my first real out of school manager experience. And I had an interview the next week. The following week the following week and then I think I went through like maybe six or seven interviews and then by Halloween of my senior year I had a job lined up. It was the best Halloween weekend. Probably of my life. I won't go into too much detail because this is an HR podcast, not a party podcast, but. Nevertheless, it was a really wonderful way to feel secure and stable, and it doesn't always happen that way. I get that my point is really that I didn't have manager experience. I had leadership experience, I had experience. Running events bringing people together, networking. I had all of those transferable skill sets from my RA job on campus where I was managing people in a different way, but also in a way that translates for the role that I was applying to. So if your resume doesn't currently speak to the job that you want and it only speaks to the job that you have, you are missing opportunities. So take this as a piece of advice that you should go into your resume. Get yourself prepared for interviews with your resume with your stories. Getting everything going so that you can really talk about what it is that you are able to do or what you will be able to do based on the experiences that you have retained and achieved over the course of however many years that you've either been a student or in the career that you might currently be in. And so if you are not a student and you're looking to make a switch. Into the HR industry, it's really all kind of the same advice in that your resume should reflect the job that you want or the job that you're applying for and not the job that you're currently in. The key there is that of course your resume is going to say all of the things that you currently do, but you have to frame it in a way that doesn't necessarily speak to the past or the present, but speaks to the future. So if you're in a current role or current industry that is an HR and you want to kind of get. Into or break into the industry. Take a look at your resume first. Take a look at your networks. It's all of the same messaging, right? All of the same advice that I have for you as I do for a recent graduate or a current student. Think about how you can interview and get those stories out. So if someone asks you well, why do you want to make the switch from X to HR? You have to be able to really speak to the wise and also talk about the challenges that you know will be there. So one of the questions that I usually ask people on interviews is what is an opportunity that you have that we need to be aware of so we can support you in your first like thirty 6090 days for example, or maybe even a little bit different? What is it that you are going to struggle with that we need to be aware of? And it's a question that can throw some people off, but really what I'm looking for is an awareness of the challenge of the role and transparency into opportunities. Just stop. With the my biggest opportunity is that I care too much. That's not an opportunity. That's a strength. Like, let's be real here. Get yourself prepared for a real interview and a real window, or providing a real window into your interests. And I think that it's all in that authenticity and the transparency and awareness that can make the interview just be that much better. Obviously there's a lot to break down there, and I I'm going to. I know I keep promising this, but I'm going to spend time on an episode talking about interview skills and how you can best set yourself up for that change in industry, but it really, it all comes back to that. For those of you who are already in your careers, switching into HR is the hardest thing for you. It's going to be hardest for those of you who are already in your careers. It's not going to be as hard for someone who doesn't have experience, and it's because when you're when you get into HR. When you finally break in. You are starting from the ground up, and while yes, I've been talking about transferable skill sets, that's definitely going to help you, but HR has its own acumen. Industry specific verbiage and knowledge, and things that can make it more challenging for someone who has not had their career in HR and isn't just starting out. So I caution you there. However, I think the most important thing for someone who's already in their career is to leverage the networks first. Anyone you know at any company is going to be a better way for you to break into the role they're going to be your best bet. My other piece of advice is that you talk to your current manager and your current our partner and express your interest. It's one of the best things that you can do, and actually I think it's a lot easier to break into HR in the company or for the company that you're currently at because they know who you are. They know how you perform. No risk or there's less risk when you apply for an external opportunity. Not only are they taking a risk and not knowing what your performance is like and how you work there, also taking a risk because you don't know the industry and you don't know the role. My suggestion will always be break into HR at the current company or the current organization that you're with and then make a move. I hope that those pieces of advice were helpful for you. I know that 30 minutes is not enough to really like breakdown. Every single thing that can be helpful, or every single thing that you should keep in mind, but I'm I'm always here for outreach. If you guys have any questions or you want to dig in a little bit more on any of the points that I have drawn out on this week's episode, you also can actually email me. I set up an email, it's podcast at HR tracy.com, so if you have a lengthier question or something that you'd really like to dive into, whether it's on this topic or another topic, please. Shoot me an email and I'm happy to engage in a lengthier conversation. So in the coming weeks I am going to have probably one or two guests on. I'm still working on it. If there's someone in this hour space or business space, or maybe a completely different industry that you'd really like to hear from, please let me know whether it's through that email. Like I said, podcasts at hrtracy.com or through my social networks. Please let me know. I'm excited about the people that I'll be interviewing this coming week. I don't know when the podcasts will launch with their interviews, but I know that the conversations are going to be really exciting and kind of touch on some of these things that we talked about today and previous on previous episodes. So nevertheless, I thought I would share a story that I think is really sweet. When I traveled to Japan with one of my friends back in 2016, first of all, it's the most amazing, beautiful, incredible country. So if you get the chance. Once this pandemic is over and it's safe to travel again, you really should make make moves get to Japan. It's incredible, but when we were there we went to a like a an American style diner. So it was basically like American food, but it was Japanese and it was called bills and I think it was in her ajuku and when we were sitting there and we were eating breakfast, I saw these two. Young women who were taking like I guess, like a selfie or a picture with their phones, and they had this incredible like attachment on the front facing camera or no. I'm sorry the back facing camera and I used Google Translate to say and I think I even said to my friend like Oh my gosh that's so cool. They were basically able to use a fisheye lens on their phone for their pictures and I used Google Translate to tell them that I really liked. Their phone camera and it sparked a friendship and actually they traveled to New York and we all stayed in touch and we went to Chelsea market and we showed them around there and we got pizza and they did not speak English and we did not speak Japanese and I don't know if anyone from Google is listening give us a commercial. It was such an incredible experience to connect with them without speaking their language. And without them speaking hours through Google Translate just to have like a little chat, we ended up taking a picture. And yeah, like I said, they came to New York and we all got together and we still speak to this day. I actually recently I think it was probably over the summer. Had like a little FaceTime with one of our friends that we met during that whole experience. I call her my pen pal and she learned English. And it was actually really easy to speak with her and I share this because she reached out to me on Instagram, which we we are connected on on Instagram already like on my personal account. But she also follows my HR Tracy Instagram and I followed her back which I did for pretty much everyone because I realized I actually have to follow someone in order to see if they tag me in a story if they're private. So I pretty much followed everybody that followed me, but she messaged me on Instagram and she said. I'm so excited that you followed me from this Instagram account. I listen every week and actually I know that she listens because I see in the metrics for every episode, like the location and I see Japan and actually there are like three or four listeners in Japan, which is really cool and I just thought it was an exciting way to share that the the world is so much smaller than we realize. And she learned how to speak English and she's still learning and. She has hopefully learned some new words and idioms, but she listens every week and it just warmed my heart to see her message and know that I'm reaching her on a topic that might not even like matter so much, even though she has her own embroidery business and that's super cool, but it was just an exciting story that I thought I'd share and hopefully also warms your heart. So, Rin, I hope that we can all see each other soon. As always, I remind you to please rate, review and subscribe if you haven't already. Wherever you're listening to this podcast, you can send me an email at podcast at hrtracy.com. You can follow me on Instagram at HR Tracy. Of course that's Tracy with an I. You can also connect with me on LinkedIn or you can go to my website and do all of that without even having having to think about it by going to our tracy.com. Thank you so much. Speak to you next week.\"\n",
        "description = \"On this episode of Bringing the Human back to Human Resources, Traci breaks down the stigmas of HR as a field, entity, and career. Sharing her experience, opinions, and questions posed to her, this inaugural episode aims to introduce individuals in all functions of a business to HR, whether you're an employee, employer, or HR professional. Episodes will be published every Tuesday--don't forget to follow Traci on Instagram at @HRTraci to get involved in the discussion!  Disclaimer: Thoughts, opinions, and statements made on this podcast are not a reflection of the thoughts, opinions, and statements of the Company Traci Rubin is actively employed by\""
      ],
      "metadata": {
        "id": "tmcL_lx4x4Kj"
      },
      "execution_count": 16,
      "outputs": []
    },
    {
      "cell_type": "markdown",
      "source": [
        "### TextRank "
      ],
      "metadata": {
        "id": "iagauRBy1zs0"
      }
    },
    {
      "cell_type": "code",
      "source": [
        "import spacy\n",
        "import pytextrank\n",
        "nlp = spacy.load(\"en_core_web_sm\")\n",
        "nlp.add_pipe(\"textrank\")\n",
        "\n",
        "doc = nlp(transcript)\n",
        "\n",
        "textrank_summary = \"\"\n",
        "for sent in doc._.textrank.summary(limit_phrases=15, limit_sentences=5):\n",
        "     print(sent)\n",
        "     textrank_summary += str(sent)\n",
        "\n"
      ],
      "metadata": {
        "id": "RbMMnIoXyUHd",
        "colab": {
          "base_uri": "https://localhost:8080/"
        },
        "outputId": "18908444-68af-4fb0-fc3a-8f947a84c660"
      },
      "execution_count": 27,
      "outputs": [
        {
          "output_type": "stream",
          "name": "stdout",
          "text": [
            "Certainly there are parts of HR that have less and less to do with people like you know some of the admin stuff you you could be doing a lot of manual entry and things like that.\n",
            "If you like the following things people business strategy, having an impact on people so.\n",
            "If you don't like people and you don't like helping people, then this is the sign you've been waiting for that you should not pursue a career in HR.\n",
            "I talked to you guys about how my undying focus and goal is to destigmatize HR, and that's because there are people in HR who shouldn't be in HR who have stigmatized the career who don't care about people and don't want to help people and so.\n",
            "It's HR in tech, it's people, operations in medicine.\n"
          ]
        }
      ]
    },
    {
      "cell_type": "code",
      "source": [
        "textrank_summary"
      ],
      "metadata": {
        "colab": {
          "base_uri": "https://localhost:8080/",
          "height": 192
        },
        "id": "GEHfqMO6CiTq",
        "outputId": "00f34ad1-451f-4d86-f817-d75b89d0a45b"
      },
      "execution_count": 28,
      "outputs": [
        {
          "output_type": "execute_result",
          "data": {
            "application/vnd.google.colaboratory.intrinsic+json": {
              "type": "string"
            },
            "text/plain": [
              "\"Certainly there are parts of HR that have less and less to do with people like you know some of the admin stuff you you could be doing a lot of manual entry and things like that.If you like the following things people business strategy, having an impact on people so.If you don't like people and you don't like helping people, then this is the sign you've been waiting for that you should not pursue a career in HR.I talked to you guys about how my undying focus and goal is to destigmatize HR, and that's because there are people in HR who shouldn't be in HR who have stigmatized the career who don't care about people and don't want to help people and so.It's HR in tech, it's people, operations in medicine.\""
            ]
          },
          "metadata": {},
          "execution_count": 28
        }
      ]
    },
    {
      "cell_type": "code",
      "source": [
        "textrank_score = scores = scorer.score(textrank_summary, description)\n",
        "print('Rouge score for TextRank', textrank_score)"
      ],
      "metadata": {
        "colab": {
          "base_uri": "https://localhost:8080/"
        },
        "id": "t_C4rDeBCBJm",
        "outputId": "7a3f40a0-4752-45fe-ee6b-4aac6e799c12"
      },
      "execution_count": 29,
      "outputs": [
        {
          "output_type": "stream",
          "name": "stdout",
          "text": [
            "Rouge score for TextRank {'rouge1': Score(precision=0.32710280373831774, recall=0.23972602739726026, fmeasure=0.27667984189723316), 'rougeL': Score(precision=0.14953271028037382, recall=0.1095890410958904, fmeasure=0.12648221343873514)}\n"
          ]
        }
      ]
    },
    {
      "cell_type": "code",
      "source": [
        ""
      ],
      "metadata": {
        "id": "ZqXqxzICQdVX"
      },
      "execution_count": null,
      "outputs": []
    },
    {
      "cell_type": "markdown",
      "source": [
        "### Pretrained Text-To-Text Transformer (T5) (Off the shelf)"
      ],
      "metadata": {
        "id": "Mg8aLQdSDIkq"
      }
    },
    {
      "cell_type": "code",
      "source": [
        "from transformers import AutoTokenizer, AutoModelWithLMHead\n",
        "\n",
        "tokenizer = AutoTokenizer.from_pretrained(\"deep-learning-analytics/wikihow-t5-small\")\n",
        "model = AutoModelWithLMHead.from_pretrained(\"deep-learning-analytics/wikihow-t5-small\")"
      ],
      "metadata": {
        "colab": {
          "base_uri": "https://localhost:8080/",
          "height": 287,
          "referenced_widgets": [
            "d27a14ae037944bd902b4fd8c38b8d13",
            "b28b8e671ae64988ba38a38d25bbcc91",
            "e5e1dc38e991409e9d96fe5dad23308b",
            "1112e145f1f541a3b574f03c9e40c5fb",
            "82dc06a55d7b4270bdd5ecca33cd93ae",
            "8dfeabfd8a2a4228be32af42d6a6512e",
            "76a38c07dd714a1d89f087ee1127bb26",
            "ef6147409d3642da8ef4efb31faa5a55",
            "532fa6cb18f340dc98c17dd46dc0026e",
            "ce740703d55a48daad76e9f35af622c2",
            "e1bf6ee5f7cd412e84a861d3c0f692ac",
            "725587844d4845eb8e3c34eb532a7f26",
            "4e42755cd7c94785a352c0de4b955e79",
            "a89543f4fdf3421982ef96e1f5872d07",
            "2caa4decba5544e8af5b95b1b6d9dade",
            "af353f52a9a54168b08682cf49c68b12",
            "eddecca73d3a43a1bdc8298cd52daa91",
            "d03ae7c50cbc44dea1672ce68a082c5d",
            "b3491f45854c445aaa3d7b4319268726",
            "e0b4b7dc231c4b249e9c003f9e2cdab7",
            "2db96662b5aa4b7aaf7cad9d6ec1febc",
            "359eda3a1bac4975bae642807db1c88e",
            "5081d82efb9b4e07b1317949e5535438",
            "c012012534ae4b25a632c6b74ed4f888",
            "dd45640974db4a1cb92636dfd438dd6e",
            "35a21d4c7f7043138ad5ee8d208ebf0d",
            "52b90e09379848b1b13ceea85978fec1",
            "2e649a7be34b4427a781b787c4e15166",
            "cbe25000d785408187c9e833a78d67d7",
            "c8130d4c54144ae1b6b6ea93ebada418",
            "113f87fa1c5b4dd895239c744412cfb7",
            "fc931de6cd9b4c618373465b47171904",
            "6cc86c07d5244e478e8b662388c5ac2c",
            "5b235417f31c49c5b706e5f2e4f8e9e0",
            "5959b560d81d4b46909ca996543c21cc",
            "fceee85785df46ecb9a949e06ab3ff0e",
            "0f98146111c046de8e3491cc4cc7da0d",
            "d3d7c191d8794430a50c6da7131ba59b",
            "dd09a158dae54b0b966047c862410129",
            "09157b5764c740848984d9602d03448c",
            "74c0ac3b18d04c6b9d1efcc269005d0b",
            "3a309687bf3748c681e193e6b99715d0",
            "cc83fef37ba44b029741b1fe63c92ce9",
            "3909354250464fafa0b27aaf9906257e",
            "d0dd007a63844580a195e436ffdd8f1f",
            "2ccd4bfcdf1f42708c2949e2ecd33cd2",
            "467ae937143a4cb3b7e9b27f8183619f",
            "62ae2e187a604be99a06676d99b080c7",
            "47b9a92600ea43dd8513cee39cc37d1e",
            "6d472d14c6c84ebe93235fa99684b79b",
            "19e09628ed5e43b9bbc28782ba6527ba",
            "6882585b01f344d09e06f7871c45f39f",
            "e710c79c60f84677a0e58267c72da611",
            "128958906d25458fa4950a26f2bed711",
            "6eb5162de87d4beab17914f81a2a34cb"
          ]
        },
        "id": "2OiIBz7vDOLs",
        "outputId": "509f8fdc-e22f-49ac-b466-fa74096538fa"
      },
      "execution_count": 30,
      "outputs": [
        {
          "output_type": "display_data",
          "data": {
            "application/vnd.jupyter.widget-view+json": {
              "model_id": "d27a14ae037944bd902b4fd8c38b8d13",
              "version_minor": 0,
              "version_major": 2
            },
            "text/plain": [
              "Downloading:   0%|          | 0.00/25.0 [00:00<?, ?B/s]"
            ]
          },
          "metadata": {}
        },
        {
          "output_type": "display_data",
          "data": {
            "application/vnd.jupyter.widget-view+json": {
              "model_id": "725587844d4845eb8e3c34eb532a7f26",
              "version_minor": 0,
              "version_major": 2
            },
            "text/plain": [
              "Downloading:   0%|          | 0.00/736 [00:00<?, ?B/s]"
            ]
          },
          "metadata": {}
        },
        {
          "output_type": "display_data",
          "data": {
            "application/vnd.jupyter.widget-view+json": {
              "model_id": "5081d82efb9b4e07b1317949e5535438",
              "version_minor": 0,
              "version_major": 2
            },
            "text/plain": [
              "Downloading:   0%|          | 0.00/773k [00:00<?, ?B/s]"
            ]
          },
          "metadata": {}
        },
        {
          "output_type": "display_data",
          "data": {
            "application/vnd.jupyter.widget-view+json": {
              "model_id": "5b235417f31c49c5b706e5f2e4f8e9e0",
              "version_minor": 0,
              "version_major": 2
            },
            "text/plain": [
              "Downloading:   0%|          | 0.00/1.74k [00:00<?, ?B/s]"
            ]
          },
          "metadata": {}
        },
        {
          "output_type": "stream",
          "name": "stderr",
          "text": [
            "/usr/local/lib/python3.7/dist-packages/transformers/models/auto/modeling_auto.py:746: FutureWarning: The class `AutoModelWithLMHead` is deprecated and will be removed in a future version. Please use `AutoModelForCausalLM` for causal language models, `AutoModelForMaskedLM` for masked language models and `AutoModelForSeq2SeqLM` for encoder-decoder models.\n",
            "  FutureWarning,\n"
          ]
        },
        {
          "output_type": "display_data",
          "data": {
            "application/vnd.jupyter.widget-view+json": {
              "model_id": "d0dd007a63844580a195e436ffdd8f1f",
              "version_minor": 0,
              "version_major": 2
            },
            "text/plain": [
              "Downloading:   0%|          | 0.00/231M [00:00<?, ?B/s]"
            ]
          },
          "metadata": {}
        }
      ]
    },
    {
      "cell_type": "code",
      "source": [
        "preprocess_text = transcript.strip().replace(\"\\n\",\"\")\n",
        "tokenized_text = tokenizer.encode(preprocess_text, return_tensors=\"pt\")\n",
        "\n",
        "summary_ids = model.generate(\n",
        "            tokenized_text,\n",
        "            max_length=150, \n",
        "            num_beams=2,\n",
        "            repetition_penalty=2.5, \n",
        "            length_penalty=1.0, \n",
        "            early_stopping=True\n",
        "        )\n",
        "\n",
        "output = tokenizer.decode(summary_ids[0], skip_special_tokens=True)\n",
        "\n",
        "print (\"\\n\\nSummarized text: \\n\",output)\n",
        "pretrained_t5_summary = output"
      ],
      "metadata": {
        "colab": {
          "base_uri": "https://localhost:8080/"
        },
        "id": "vj6ah1QADONy",
        "outputId": "7d3f1072-dec0-4ca6-8574-ad75aadf0a0d"
      },
      "execution_count": 31,
      "outputs": [
        {
          "output_type": "stream",
          "name": "stderr",
          "text": [
            "Token indices sequence length is longer than the specified maximum sequence length for this model (6251 > 512). Running this sequence through the model will result in indexing errors\n"
          ]
        },
        {
          "output_type": "stream",
          "name": "stdout",
          "text": [
            "\n",
            "\n",
            "Summarized text: \n",
            " Get to know the HR industry.Get to know the HR industry.Make sure you have a good resume.Ask people who are interested in HR.Seek out some of your advice.\n"
          ]
        }
      ]
    },
    {
      "cell_type": "code",
      "source": [
        "pretrained_t5_score = scorer.score(pretrained_t5_summary, description)\n",
        "print('Rouge score for pretrained T5 (without tuning)', pretrained_t5_score)"
      ],
      "metadata": {
        "colab": {
          "base_uri": "https://localhost:8080/"
        },
        "id": "GmJxPP5tDOQT",
        "outputId": "e8086265-ea99-4b23-9f4d-294e07cf078e"
      },
      "execution_count": 32,
      "outputs": [
        {
          "output_type": "stream",
          "name": "stdout",
          "text": [
            "Rouge score for pretrained T5 (without tuning) {'rouge1': Score(precision=0.12149532710280374, recall=0.40625, fmeasure=0.18705035971223022), 'rougeL': Score(precision=0.07476635514018691, recall=0.25, fmeasure=0.11510791366906474)}\n"
          ]
        }
      ]
    },
    {
      "cell_type": "markdown",
      "source": [
        "### FineTuned T5 on the Spotify Dataset\n",
        "Loading T5 from saved model after training and using for evaluation\n",
        "\n"
      ],
      "metadata": {
        "id": "fZflZ3Q-VR1I"
      }
    },
    {
      "cell_type": "code",
      "source": [
        "# Google Drive Folder Update\n",
        "\n",
        "BASE_DATASET_FOLDER = \"TIS/\"\n",
        "ROOT_DATA_PATH = \"/content/gdrive/My Drive/\" + BASE_DATASET_FOLDER\n",
        "\n",
        "# Changing directory path \n",
        "os.chdir(ROOT_DATA_PATH)"
      ],
      "metadata": {
        "id": "OHDiJYHUdnWz"
      },
      "execution_count": 17,
      "outputs": []
    },
    {
      "cell_type": "markdown",
      "source": [
        "Note that we have stored the saved model in `./tisproj` folder."
      ],
      "metadata": {
        "id": "Z37edtrl4GnI"
      }
    },
    {
      "cell_type": "code",
      "source": [
        "model_final = T5ForConditionalGeneration.from_pretrained('./tisproj',local_files_only = True)"
      ],
      "metadata": {
        "id": "kfHaZ-yko1VP"
      },
      "execution_count": 18,
      "outputs": []
    },
    {
      "cell_type": "code",
      "source": [
        "tokenizer_final = T5Tokenizer.from_pretrained('./tisproj',local_files_only = True)"
      ],
      "metadata": {
        "id": "3rUVnf72o1XI"
      },
      "execution_count": 19,
      "outputs": []
    },
    {
      "cell_type": "code",
      "source": [
        "from transformers import pipeline\n",
        "from transformers import T5Tokenizer, T5ForConditionalGeneration\n",
        "\n",
        "summarizer = pipeline(\"summarization\", model=model_final, tokenizer=tokenizer_final)\n"
      ],
      "metadata": {
        "id": "_Q_rZ2VwpNkj"
      },
      "execution_count": 20,
      "outputs": []
    },
    {
      "cell_type": "code",
      "source": [
        "t5_summary = summarizer(transcript, min_length=5, max_length=100)[0]['summary_text']"
      ],
      "metadata": {
        "id": "OcT2oAD-pNml"
      },
      "execution_count": 22,
      "outputs": []
    },
    {
      "cell_type": "code",
      "source": [
        "t5_summary"
      ],
      "metadata": {
        "id": "HKN5WtCZpNot",
        "colab": {
          "base_uri": "https://localhost:8080/",
          "height": 105
        },
        "outputId": "19250df1-d0f5-4fe6-f536-234c93fb5221"
      },
      "execution_count": 23,
      "outputs": [
        {
          "output_type": "execute_result",
          "data": {
            "application/vnd.google.colaboratory.intrinsic+json": {
              "type": "string"
            },
            "text/plain": [
              "\"this week's episode is all about the importance of having a good resume and a strong network. --- Send in a voice message: https://anchor.fm/travis-rubin7/message Support this podcast: http://anterior-refrigerant/support/support This podcast is sponsored by  Anchor: The easiest way to make a podcast. https://answers.fandom.com/app Support\""
            ]
          },
          "metadata": {},
          "execution_count": 23
        }
      ]
    },
    {
      "cell_type": "markdown",
      "source": [
        "Rouge Score for T5"
      ],
      "metadata": {
        "id": "PfR1Dq4W4cCX"
      }
    },
    {
      "cell_type": "code",
      "source": [
        "description = \"On this episode of Bringing the Human back to Human Resources, Traci breaks down the stigmas of HR as a field, entity, and career. Sharing her experience, opinions, and questions posed to her, this inaugural episode aims to introduce individuals in all functions of a business to HR, whether you're an employee, employer, or HR professional. Episodes will be published every Tuesday--don't forget to follow Traci on Instagram at @HRTraci to get involved in the discussion!  Disclaimer: Thoughts, opinions, and statements made on this podcast are not a reflection of the thoughts, opinions, and statements of the Company Traci Rubin is actively employed by\""
      ],
      "metadata": {
        "id": "0dzMg9QB9b8K"
      },
      "execution_count": 13,
      "outputs": []
    },
    {
      "cell_type": "code",
      "source": [
        "t5_score = scores = scorer.score(t5_summary, description)\n",
        "print('Rouge score for T5', t5_score)"
      ],
      "metadata": {
        "id": "f3rO8-7tpNs5",
        "colab": {
          "base_uri": "https://localhost:8080/"
        },
        "outputId": "d1a4d8d9-1410-4ed3-f212-7174f2dc296b"
      },
      "execution_count": 33,
      "outputs": [
        {
          "output_type": "stream",
          "name": "stdout",
          "text": [
            "Rouge score for T5 {'rouge1': Score(precision=0.1588785046728972, recall=0.30357142857142855, fmeasure=0.20858895705521474), 'rougeL': Score(precision=0.11214953271028037, recall=0.21428571428571427, fmeasure=0.14723926380368096)}\n"
          ]
        }
      ]
    },
    {
      "cell_type": "code",
      "source": [
        ""
      ],
      "metadata": {
        "id": "wY_uORPopNxY"
      },
      "execution_count": null,
      "outputs": []
    },
    {
      "cell_type": "markdown",
      "source": [
        "### Comparison of the three scores "
      ],
      "metadata": {
        "id": "M19yvODPEHmY"
      }
    },
    {
      "cell_type": "code",
      "source": [
        "print(textrank_score)\n",
        "print(pretrained_t5_score)\n",
        "print(t5_score)"
      ],
      "metadata": {
        "id": "S2KpYFMBEJiB"
      },
      "execution_count": null,
      "outputs": []
    },
    {
      "cell_type": "code",
      "source": [
        ""
      ],
      "metadata": {
        "id": "VS3SxN7MBAdl"
      },
      "execution_count": null,
      "outputs": []
    },
    {
      "cell_type": "markdown",
      "source": [
        "### Quantitative analysis\n",
        "\n",
        "After having seen a single example, let us now run the analysis on a subset of our dataset, which is also our final results presented in the readme."
      ],
      "metadata": {
        "id": "8Lhzw7eCBA4f"
      }
    },
    {
      "cell_type": "code",
      "source": [
        "# Running on 10 randomly chosen rows of the validation set\n",
        "\n",
        "val_subset = podcast_df.sample(n=10)\n",
        "val_subset"
      ],
      "metadata": {
        "id": "C6E_3zcaBAfj",
        "colab": {
          "base_uri": "https://localhost:8080/",
          "height": 730
        },
        "outputId": "349b1fba-a329-41cc-d85e-62004319c2cc"
      },
      "execution_count": 26,
      "outputs": [
        {
          "output_type": "execute_result",
          "data": {
            "text/html": [
              "<div>\n",
              "<style scoped>\n",
              "    .dataframe tbody tr th:only-of-type {\n",
              "        vertical-align: middle;\n",
              "    }\n",
              "\n",
              "    .dataframe tbody tr th {\n",
              "        vertical-align: top;\n",
              "    }\n",
              "\n",
              "    .dataframe thead th {\n",
              "        text-align: right;\n",
              "    }\n",
              "</style>\n",
              "<table border=\"1\" class=\"dataframe\">\n",
              "  <thead>\n",
              "    <tr style=\"text-align: right;\">\n",
              "      <th></th>\n",
              "      <th>episode_prefix</th>\n",
              "      <th>episode_transcript</th>\n",
              "      <th>episode_description</th>\n",
              "      <th>episode_len</th>\n",
              "      <th>capped_episode_transcript</th>\n",
              "      <th>capped_episode_len</th>\n",
              "    </tr>\n",
              "  </thead>\n",
              "  <tbody>\n",
              "    <tr>\n",
              "      <th>41731</th>\n",
              "      <td>6Cq1XugcVrGUqqH3BcJSrO</td>\n",
              "      <td>Hello everyone. This is Adam Meister the bitco...</td>\n",
              "      <td>25 Bitcoin minutes of Caitlin Long! Play it at...</td>\n",
              "      <td>4940</td>\n",
              "      <td>Hello everyone. This is Adam Meister the bitco...</td>\n",
              "      <td>4940</td>\n",
              "    </tr>\n",
              "    <tr>\n",
              "      <th>33733</th>\n",
              "      <td>1COfFbdyQ9VtfwTgyP1vkH</td>\n",
              "      <td>Hello, tribe this meditation. Wednesday is spo...</td>\n",
              "      <td>The power and energy to vibrates into you, upg...</td>\n",
              "      <td>3207</td>\n",
              "      <td>Hello, tribe this meditation. Wednesday is spo...</td>\n",
              "      <td>3207</td>\n",
              "    </tr>\n",
              "    <tr>\n",
              "      <th>20007</th>\n",
              "      <td>6WEDAaVOA9a9Px1EiA7ymX</td>\n",
              "      <td>What up, Spencer big-time thoughts. We've done...</td>\n",
              "      <td>This week we cover the first week of B1G Footb...</td>\n",
              "      <td>6518</td>\n",
              "      <td>What up, Spencer big-time thoughts. We've done...</td>\n",
              "      <td>6518</td>\n",
              "    </tr>\n",
              "    <tr>\n",
              "      <th>91108</th>\n",
              "      <td>0CUaPFoDpZvVVqgtkq4tSN</td>\n",
              "      <td>Before you aspire to be someone before you loo...</td>\n",
              "      <td>How did a call center agent make it all the wa...</td>\n",
              "      <td>12005</td>\n",
              "      <td>Before you aspire to be someone before you loo...</td>\n",
              "      <td>7000</td>\n",
              "    </tr>\n",
              "    <tr>\n",
              "      <th>89708</th>\n",
              "      <td>2eFx2INWt84g0GkVAxM0Bc</td>\n",
              "      <td>Welcome to the body image health and fitness p...</td>\n",
              "      <td>Today I speak about social media and how it ca...</td>\n",
              "      <td>3852</td>\n",
              "      <td>Welcome to the body image health and fitness p...</td>\n",
              "      <td>3852</td>\n",
              "    </tr>\n",
              "    <tr>\n",
              "      <th>72277</th>\n",
              "      <td>03CJYfZ2FCR6r8olTFR93I</td>\n",
              "      <td>Asian boss girl is brought to you by anchor an...</td>\n",
              "      <td>May 28th is Menstrual Hygiene Day. We celebrat...</td>\n",
              "      <td>12776</td>\n",
              "      <td>Asian boss girl is brought to you by anchor an...</td>\n",
              "      <td>7000</td>\n",
              "    </tr>\n",
              "    <tr>\n",
              "      <th>95333</th>\n",
              "      <td>3G3JRWueMO1AqecCXwX5U4</td>\n",
              "      <td>This episode is brought to you by TaxACT. This...</td>\n",
              "      <td>The Facts Surprisingly Awesome’s Theme Music i...</td>\n",
              "      <td>6928</td>\n",
              "      <td>This episode is brought to you by TaxACT. This...</td>\n",
              "      <td>6928</td>\n",
              "    </tr>\n",
              "    <tr>\n",
              "      <th>24953</th>\n",
              "      <td>6n3qq0N44E81KyhR5kXKo3</td>\n",
              "      <td>Are you an HR department of one trying to figu...</td>\n",
              "      <td>What do you get when you mix a young ambitions...</td>\n",
              "      <td>14604</td>\n",
              "      <td>Are you an HR department of one trying to figu...</td>\n",
              "      <td>7000</td>\n",
              "    </tr>\n",
              "    <tr>\n",
              "      <th>9221</th>\n",
              "      <td>6Dh8GFSEKOrY2EkNplLzUc</td>\n",
              "      <td>This episode of the ortho bullets podcast will...</td>\n",
              "      <td>In this episode, we will review the high-yield...</td>\n",
              "      <td>1408</td>\n",
              "      <td>This episode of the ortho bullets podcast will...</td>\n",
              "      <td>1408</td>\n",
              "    </tr>\n",
              "    <tr>\n",
              "      <th>102946</th>\n",
              "      <td>0JDt85aS46MIzVgQnvfCgF</td>\n",
              "      <td>Before I continue one of the ways, we keep all...</td>\n",
              "      <td>Breanna Chianne, Kittie Kaboom, and Alexis Bro...</td>\n",
              "      <td>8114</td>\n",
              "      <td>Before I continue one of the ways, we keep all...</td>\n",
              "      <td>7000</td>\n",
              "    </tr>\n",
              "  </tbody>\n",
              "</table>\n",
              "</div>"
            ],
            "text/plain": [
              "                episode_prefix  ... capped_episode_len\n",
              "41731   6Cq1XugcVrGUqqH3BcJSrO  ...               4940\n",
              "33733   1COfFbdyQ9VtfwTgyP1vkH  ...               3207\n",
              "20007   6WEDAaVOA9a9Px1EiA7ymX  ...               6518\n",
              "91108   0CUaPFoDpZvVVqgtkq4tSN  ...               7000\n",
              "89708   2eFx2INWt84g0GkVAxM0Bc  ...               3852\n",
              "72277   03CJYfZ2FCR6r8olTFR93I  ...               7000\n",
              "95333   3G3JRWueMO1AqecCXwX5U4  ...               6928\n",
              "24953   6n3qq0N44E81KyhR5kXKo3  ...               7000\n",
              "9221    6Dh8GFSEKOrY2EkNplLzUc  ...               1408\n",
              "102946  0JDt85aS46MIzVgQnvfCgF  ...               7000\n",
              "\n",
              "[10 rows x 6 columns]"
            ]
          },
          "metadata": {},
          "execution_count": 26
        }
      ]
    },
    {
      "cell_type": "markdown",
      "source": [
        "### TextRank on Val Dataset"
      ],
      "metadata": {
        "id": "EDrzJ_L1LQQF"
      }
    },
    {
      "cell_type": "code",
      "source": [
        "# TextRank \n",
        "\n",
        "def get_textrank_scores(val_subset):\n",
        "  textrank_scores = []\n",
        "  for i in range(len(val_subset)):\n",
        "    transcript = val_subset.iloc[i]['capped_episode_transcript']\n",
        "    description = val_subset.iloc[i]['episode_description']\n",
        "\n",
        "    doc = nlp(transcript)\n",
        "\n",
        "    textrank_summary = \"\"\n",
        "    for sent in doc._.textrank.summary(limit_phrases=15, limit_sentences=5):\n",
        "        textrank_summary += str(sent)\n",
        "\n",
        "    textrank_score = scorer.score(textrank_summary, description)\n",
        "    avg_score = textrank_score['rouge1'].fmeasure\n",
        "\n",
        "    textrank_scores.append(avg_score)\n",
        "\n",
        "    print(\"Finished sample {}, {}\".format(i,avg_score))\n",
        "\n",
        "  final_textrank_score = sum(textrank_scores)/len(textrank_scores)\n",
        "  print(\"TextRank performance on val dataset: {}\".format(final_textrank_score))"
      ],
      "metadata": {
        "id": "ICNBlodRIFCG"
      },
      "execution_count": 90,
      "outputs": []
    },
    {
      "cell_type": "code",
      "source": [
        "get_textrank_scores(val_subset)"
      ],
      "metadata": {
        "colab": {
          "base_uri": "https://localhost:8080/"
        },
        "id": "Bk0OvzQ5IFEC",
        "outputId": "7b47e6bd-718f-4c13-d22a-a4edad28ae0c"
      },
      "execution_count": 86,
      "outputs": [
        {
          "output_type": "stream",
          "name": "stdout",
          "text": [
            "Finished sample 0, 0.11382113821138211\n",
            "Finished sample 1, 0.06542056074766354\n",
            "Finished sample 2, 0.126984126984127\n",
            "Finished sample 3, 0.13201320132013203\n",
            "Finished sample 4, 0.19745222929936304\n",
            "Finished sample 5, 0.012499999999999999\n",
            "Finished sample 6, 0.24\n",
            "Finished sample 7, 0.08648648648648648\n",
            "Finished sample 8, 0.048\n",
            "Finished sample 9, 0.07352941176470588\n",
            "TextRank performance on val dataset: 0.109620715481386\n"
          ]
        }
      ]
    },
    {
      "cell_type": "code",
      "source": [
        ""
      ],
      "metadata": {
        "id": "An4vc2ZxLNI6"
      },
      "execution_count": null,
      "outputs": []
    },
    {
      "cell_type": "markdown",
      "source": [
        "### Off the shelf T5 on Val Dataset"
      ],
      "metadata": {
        "id": "tLG-xU0dLTKI"
      }
    },
    {
      "cell_type": "code",
      "source": [
        "# T5 (Off the shelf) \n",
        "\n",
        "def get_t5_scores(val_subset, model, tokenizer):\n",
        "  t5_scores = []\n",
        "  for i in range(len(val_subset)):\n",
        "    transcript = val_subset.iloc[i]['capped_episode_transcript']\n",
        "    description = val_subset.iloc[i]['episode_description']\n",
        "\n",
        "    preprocess_text = transcript.strip().replace(\"\\n\",\"\")\n",
        "    tokenized_text = tokenizer.encode(preprocess_text, return_tensors=\"pt\")\n",
        "\n",
        "    summary_ids = model.generate(\n",
        "                tokenized_text,\n",
        "                max_length=100, \n",
        "                num_beams=2,\n",
        "                repetition_penalty=2.5, \n",
        "                length_penalty=1.0, \n",
        "                early_stopping=True\n",
        "            )\n",
        "\n",
        "    output = tokenizer.decode(summary_ids[0], skip_special_tokens=True)\n",
        "    pretrained_t5_summary = output\n",
        "\n",
        "    t5_score = scorer.score(pretrained_t5_summary, description)\n",
        "    avg_score = t5_score['rouge1'].fmeasure\n",
        "\n",
        "    t5_scores.append(avg_score)\n",
        "\n",
        "    print(\"Finished sample {}, {}\".format(i,avg_score))\n",
        "\n",
        "  final_t5_score = sum(t5_scores)/len(t5_scores)\n",
        "  print(\"T5 (Off the shelf) performance on val dataset: {}\".format(final_t5_score))"
      ],
      "metadata": {
        "id": "WrE1mkqzLNM4"
      },
      "execution_count": 89,
      "outputs": []
    },
    {
      "cell_type": "code",
      "source": [
        "get_t5_scores(val_subset, model, tokenizer)"
      ],
      "metadata": {
        "colab": {
          "base_uri": "https://localhost:8080/"
        },
        "id": "aUw1LcfCLWfK",
        "outputId": "111136a2-70e2-4d28-c4de-0e91e0dcbfa4"
      },
      "execution_count": 88,
      "outputs": [
        {
          "output_type": "stream",
          "name": "stdout",
          "text": [
            "Finished sample 0, 0.29032258064516125\n",
            "Finished sample 1, 0.27906976744186046\n",
            "Finished sample 2, 0.16901408450704222\n",
            "Finished sample 3, 0.06756756756756757\n",
            "Finished sample 4, 0.2676056338028169\n",
            "Finished sample 5, 0.031746031746031744\n",
            "Finished sample 6, 0.09615384615384616\n",
            "Finished sample 7, 0.15730337078651685\n",
            "Finished sample 8, 0.08791208791208792\n",
            "Finished sample 9, 0.0\n",
            "T5 (Off the shelf) performance on val dataset: 0.14466949705629312\n"
          ]
        }
      ]
    },
    {
      "cell_type": "markdown",
      "source": [
        "### T5 (Fine tuned on spotify dataset)"
      ],
      "metadata": {
        "id": "RG48lclfNUKh"
      }
    },
    {
      "cell_type": "code",
      "source": [
        "# T5 (Fine Tuned on Spotify Dataset) \n",
        "\n",
        "def get_t5_finetuned_scores(val_subset, model_final, tokenizer_final):\n",
        "  t5_finetuned_scores = []\n",
        "  for i in range(len(val_subset)):\n",
        "    transcript = val_subset.iloc[i]['capped_episode_transcript']\n",
        "    description = val_subset.iloc[i]['episode_description']\n",
        "\n",
        "    summarizer = pipeline(\"summarization\", model=model_final, tokenizer=tokenizer_final)\n",
        "    t5_summary = summarizer(transcript, min_length=5, max_length=100)[0]['summary_text']\n",
        "\n",
        "    t5_score = scorer.score(t5_summary, description)\n",
        "    avg_score = t5_score['rouge1'].fmeasure# + t5_score['rougeL'].fmeasure)/2.0\n",
        "\n",
        "    t5_finetuned_scores.append(avg_score)\n",
        "\n",
        "    print(\"Finished sample {}, {}\".format(i,avg_score))\n",
        "\n",
        "  final_t5_score = sum(t5_finetuned_scores)/len(t5_finetuned_scores)\n",
        "  print(\"T5 (Fine Tuned on Spotify Dataset) performance on val dataset: {}\".format(final_t5_score))"
      ],
      "metadata": {
        "id": "ZGhqMoYRLWjP"
      },
      "execution_count": 27,
      "outputs": []
    },
    {
      "cell_type": "code",
      "source": [
        "get_t5_finetuned_scores(val_subset, model_final, tokenizer_final)"
      ],
      "metadata": {
        "colab": {
          "base_uri": "https://localhost:8080/"
        },
        "id": "BeEc0txULWlE",
        "outputId": "c18fdcac-aa55-4003-8c34-dd5c8151d2f0"
      },
      "execution_count": 28,
      "outputs": [
        {
          "output_type": "stream",
          "name": "stdout",
          "text": [
            "Finished sample 0, 0.3764705882352941\n",
            "Finished sample 1, 0.20779220779220778\n",
            "Finished sample 2, 0.20253164556962025\n",
            "Finished sample 3, 0.3575418994413408\n",
            "Finished sample 4, 0.2574257425742574\n",
            "Finished sample 5, 0.3246073298429319\n",
            "Finished sample 6, 0.1728395061728395\n",
            "Finished sample 7, 0.3684210526315789\n",
            "Finished sample 8, 0.6410256410256411\n",
            "Finished sample 9, 0.2131979695431472\n",
            "T5 (Fine Tuned on Spotify Dataset) performance on val dataset: 0.31218535828288585\n"
          ]
        }
      ]
    },
    {
      "cell_type": "markdown",
      "source": [
        "#### Insights from Automatic Evaluation.\n",
        "\n",
        "* While comparing ROUGE scores, we see that the FineTuned model performs well in comparison to other baselines, which confirms our expectation that domain adaptation on the Spotify dataset is a necessary step towards a higher score.\n"
      ],
      "metadata": {
        "id": "gW738zhhugVc"
      }
    },
    {
      "cell_type": "markdown",
      "source": [
        "### Manual Evaluation\n",
        "\n",
        " We used five English\n",
        "speaking volunteers to score the summaries into the defined spectrum of Bad(B) to Excellent(E), as defined by the original paper. This is so that we can effectively capture the subjectivity of how good or bad a summary is, based on how relevant it is to a human evaluator.\n",
        "\n",
        "#### Insights from Manual Evaluation\n",
        "\n",
        "* 3 out of 5 people felt that the summaries generated by TextRank and Fine-Tuned were comparable, and rated it Fair(F).\n",
        "* 1 evaluator felt that TextRank is definitely better, and 1 Evaluator felt that given enough data, FineTuned T5 is a much better abstraction of the podcast transcript.\n",
        "* 5 out of 5 evaluators agreed that the FineTuned T5 generated better summaries than Off-the-shelf Pretrained T5. This validates our assumption about the need to perform domain adaptation.\n",
        "\n",
        "\n",
        "\n",
        "\n",
        "\n",
        "\n",
        "\n",
        "\n",
        "\n",
        "\n",
        "\n",
        "\n",
        "\n"
      ],
      "metadata": {
        "id": "RDkuFrTll4d6"
      }
    },
    {
      "cell_type": "markdown",
      "source": [
        "### Room for improvement and Error Analysis\n",
        "\n",
        "* Dataset - Perhaps episode description is not the ideal ground truth to represent summary, since it often contains promotional material which the model learns to generate after every summary, leading to post processing overhead.\n",
        "* Compute - Since even on the best settings on Colab, the T5 model can only take a certain amount of tokens, perhaps given enough compute T5 has the potential to generate even better summaries. Nevertheless, deep learning based techniques seem to be infeasible for simple use cases.\n"
      ],
      "metadata": {
        "id": "3otSba89o-Jv"
      }
    },
    {
      "cell_type": "code",
      "source": [
        ""
      ],
      "metadata": {
        "id": "J-GrRuin9Gv7"
      },
      "execution_count": null,
      "outputs": []
    }
  ]
}